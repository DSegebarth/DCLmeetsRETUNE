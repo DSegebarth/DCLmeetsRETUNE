{
 "cells": [
  {
   "cell_type": "markdown",
   "id": "0d1b862c-27c1-430f-bf8b-5f08a96c55ed",
   "metadata": {},
   "source": [
    "# Examples of Jupyter widgets"
   ]
  },
  {
   "cell_type": "code",
   "execution_count": 1,
   "id": "c4b7d859-2047-4fde-b063-59c63c9972fd",
   "metadata": {},
   "outputs": [],
   "source": [
    "import ipywidgets as w\n",
    "from IPython.display import display"
   ]
  },
  {
   "cell_type": "markdown",
   "id": "64f8bab7-7b7a-4eda-a2c4-5bd2ad5acf30",
   "metadata": {},
   "source": [
    "## Dropdowns"
   ]
  },
  {
   "cell_type": "markdown",
   "id": "fe7be92d-8f20-4beb-b119-5e3d2735e172",
   "metadata": {},
   "source": [
    "Let´s start by simply creating a dropdown menu:"
   ]
  },
  {
   "cell_type": "code",
   "execution_count": 3,
   "id": "1556146d-2fb7-4d84-b7ad-523136ce1a5f",
   "metadata": {},
   "outputs": [
    {
     "data": {
      "application/vnd.jupyter.widget-view+json": {
       "model_id": "d55afa3065c94907812f21fd2deab69f",
       "version_major": 2,
       "version_minor": 0
      },
      "text/plain": [
       "Dropdown(description='Please select which DBS electrodes are used: ', layout=Layout(width='90%'), options=('Bo…"
      ]
     },
     "metadata": {},
     "output_type": "display_data"
    }
   ],
   "source": [
    "dropdown = w.Dropdown(description = 'Please select which DBS electrodes are used: ',\n",
    "                      options = ['Boston Scientific', 'Medtronic', 'Abbott infinity', 'PINS medical'],\n",
    "                      layout = {'width': '90%'},\n",
    "                      style = {'description_width': 'initial'})\n",
    "\n",
    "dropdown"
   ]
  },
  {
   "cell_type": "markdown",
   "id": "2ffc8d8f-4274-450f-9666-597833781c56",
   "metadata": {},
   "source": [
    "Passing the dictionaries for `layout` and `style` allows you to adjust the dropdown to your individual design needs. 100% is related to the width of the displayed notebook on your own system, but instead of percentage of displayed width you can also specify the exact pixels (e.g. '800px'), or use `initial` for the description width to make it fit just right. Of course the documentation of ipywidgets goes much more in depth on this :-)"
   ]
  },
  {
   "cell_type": "markdown",
   "id": "9893efd4-4f52-4cb3-b69b-edec8e11f3fb",
   "metadata": {},
   "source": [
    "You can use:\n",
    "\n",
    "> `dropdown.value`\n",
    "\n",
    "to access the current selection of a dropdown widget. Just run the following cell & then re-run it after changing the selection in the dropdown widget above - you should see that the output changes accordingly :)"
   ]
  },
  {
   "cell_type": "code",
   "execution_count": 8,
   "id": "a0544095-b4fc-4246-80a1-22675cfac463",
   "metadata": {},
   "outputs": [
    {
     "data": {
      "text/plain": [
       "'Abbott infinity'"
      ]
     },
     "execution_count": 8,
     "metadata": {},
     "output_type": "execute_result"
    }
   ],
   "source": [
    "dropdown.value"
   ]
  },
  {
   "cell_type": "markdown",
   "id": "a11798f8-dd65-45da-b508-a24248b42d23",
   "metadata": {},
   "source": [
    "Similarly, you can of course also set a specific value or add options after creating the widget - remember to check out how the widget above is changed"
   ]
  },
  {
   "cell_type": "code",
   "execution_count": 6,
   "id": "8446dce0-06b2-478c-b444-ee897ca4fbb4",
   "metadata": {},
   "outputs": [],
   "source": [
    "# Add more options:\n",
    "if 'Custom built' not in dropdown.options:\n",
    "    dropdown.options = dropdown.options + ('Custom built', )"
   ]
  },
  {
   "cell_type": "code",
   "execution_count": 7,
   "id": "64bfcf7f-6a9b-4592-afbe-7fa7adcac67f",
   "metadata": {},
   "outputs": [],
   "source": [
    "# Set value:\n",
    "dropdown.value = 'Custom built'"
   ]
  },
  {
   "cell_type": "markdown",
   "id": "50a69af8-c2cc-4816-8b8e-e565797c0d09",
   "metadata": {
    "tags": []
   },
   "source": [
    "## More widgets\n",
    "\n",
    "\n",
    "Just like Dropdown menus, there are a lot of other widgets like buttons, checkboxes, or sliders to provide you with a plethora of tools that allow intuitive use for a huge variety of scenarios & all behave very similarly. Let´s just create a bunch of them.\n",
    "\n",
    "\n",
    "#### Buttons"
   ]
  },
  {
   "cell_type": "code",
   "execution_count": 9,
   "id": "7fdec492-0dcb-4a3d-8092-e741364023e6",
   "metadata": {},
   "outputs": [
    {
     "data": {
      "application/vnd.jupyter.widget-view+json": {
       "model_id": "095f5837fc9e48999845987716a552d4",
       "version_major": 2,
       "version_minor": 0
      },
      "text/plain": [
       "Button(description='Confirm selection', icon='check', style=ButtonStyle())"
      ]
     },
     "metadata": {},
     "output_type": "display_data"
    }
   ],
   "source": [
    "button = w.Button(description = 'Confirm selection', icon = 'check') \n",
    "button"
   ]
  },
  {
   "cell_type": "markdown",
   "id": "0f1ddcc7-546f-4952-b52f-e97e94ae3de4",
   "metadata": {},
   "source": [
    "Check out [fontawesome](https://fontawesome.com/v5.15/icons?d=gallery&p=2) for icons that can be displayed on buttons - still waiting for a situation where the \"hand-spock\" icon fits! :D"
   ]
  },
  {
   "cell_type": "markdown",
   "id": "e210ef76-cd7b-49cd-97a8-42e08aadfc8e",
   "metadata": {},
   "source": [
    "#### Labels\n",
    "\n",
    "Sometimes all you need is to add some plain text & then the label widget is what you need"
   ]
  },
  {
   "cell_type": "code",
   "execution_count": 10,
   "id": "d7101d17-441a-4ad7-a373-3ef0d705d155",
   "metadata": {},
   "outputs": [
    {
     "data": {
      "application/vnd.jupyter.widget-view+json": {
       "model_id": "132c458e250c4e5989ae56580ce61079",
       "version_major": 2,
       "version_minor": 0
      },
      "text/plain": [
       "Label(value='Please select what type of data you are recording: ')"
      ]
     },
     "metadata": {},
     "output_type": "display_data"
    }
   ],
   "source": [
    "label = w.Label(value = 'Please select what type of data you are recording: ')\n",
    "label"
   ]
  },
  {
   "cell_type": "markdown",
   "id": "0eb3498c-f85e-44b5-8aa0-7df4ae21687c",
   "metadata": {},
   "source": [
    "#### Checkboxes"
   ]
  },
  {
   "cell_type": "code",
   "execution_count": 11,
   "id": "ba62a0b6-a3ad-4957-abaa-28972421ee93",
   "metadata": {},
   "outputs": [
    {
     "data": {
      "application/vnd.jupyter.widget-view+json": {
       "model_id": "972b19543949477893ab0698c340a67e",
       "version_major": 2,
       "version_minor": 0
      },
      "text/plain": [
       "Checkbox(value=False, description='Human')"
      ]
     },
     "metadata": {},
     "output_type": "display_data"
    }
   ],
   "source": [
    "checkbox_human = w.Checkbox(description = 'Human')\n",
    "checkbox_human"
   ]
  },
  {
   "cell_type": "code",
   "execution_count": 12,
   "id": "74d208e2-bd8c-4568-88f2-c9c120e8a4c8",
   "metadata": {},
   "outputs": [
    {
     "data": {
      "application/vnd.jupyter.widget-view+json": {
       "model_id": "5eb1fe3c3ae648eca8cf497c58681595",
       "version_major": 2,
       "version_minor": 0
      },
      "text/plain": [
       "Checkbox(value=False, description='Animal')"
      ]
     },
     "metadata": {},
     "output_type": "display_data"
    }
   ],
   "source": [
    "checkbox_animal = w.Checkbox(description = 'Animal')\n",
    "checkbox_animal"
   ]
  },
  {
   "cell_type": "markdown",
   "id": "2839e931-20f6-4089-bc53-874a7e31c310",
   "metadata": {},
   "source": [
    "#### Boxes for layouting\n",
    "\n",
    "There are a bunch of options to arrange the widgets just like you need them. Personally, I´m mainly using horizontal or vertical boxes (i.e. `HBox` or `VBox`) most of the time. Yet, this is probably just due to the fact that they were the first I started to use and I should totally start experimenting with the alternatives like grids at some point, too."
   ]
  },
  {
   "cell_type": "code",
   "execution_count": 13,
   "id": "864b4a9a-0d00-4e90-a937-8e68b8b353c4",
   "metadata": {},
   "outputs": [
    {
     "data": {
      "application/vnd.jupyter.widget-view+json": {
       "model_id": "c2a0f0ef0584403e9df2f86aabc39aa8",
       "version_major": 2,
       "version_minor": 0
      },
      "text/plain": [
       "HBox(children=(Label(value='Please select what type of data you are recording: '), Checkbox(value=False, descr…"
      ]
     },
     "metadata": {},
     "output_type": "display_data"
    }
   ],
   "source": [
    "select_datatype = w.HBox([label, checkbox_human, checkbox_animal])\n",
    "select_datatype"
   ]
  },
  {
   "cell_type": "markdown",
   "id": "62e7ec95-7f3e-48df-a920-c62d3ccbb0c7",
   "metadata": {},
   "source": [
    "## Build a GUI\n",
    "\n",
    "For arranging everything together & to bind functions to the buttons and maybe even have elements within the GUI change or entirely appear / disappear, I found it most convenient to use classes for this. Again, this may be personal preference & I already learned so much about software design in the workshop during the retreat, that I´d totally design the code of my `dcl_stats_n_plots` tool differently, but well, that´s how it always is I guess :D Happy to hear if you find more intuitive or convenient solutions! :)\n",
    "\n",
    "> Note: If you want to have something displayed as outpout - may it be a simple print or something like plots or figures you created, you have to add an output ipywidget as well. You can arrange its position / layout just as with all the other wigets, which makes the entire design of the GUI again very flexible I think"
   ]
  },
  {
   "cell_type": "code",
   "execution_count": 14,
   "id": "3df9b2c8-296c-467d-9c0d-39a334cdd4f5",
   "metadata": {},
   "outputs": [],
   "source": [
    "class GUI:\n",
    "    def __init__(self):\n",
    "        self.select_manufacturer = w.Dropdown(description = 'Please select which DBS electrodes are used: ', \n",
    "                                               options = ['Boston Scientific', 'Medtronic', 'Abbott infinity', 'PINS medical'], \n",
    "                                               layout = {'width': '90%'}, \n",
    "                                               style = {'description_width': 'initial'})\n",
    "        self.confirm_selection = w.Button(description = 'Confirm selection', icon = 'check') \n",
    "        self.manufacturer_box = w.HBox([self.select_manufacturer, self.confirm_selection])\n",
    "        \n",
    "        self.datatype_instructions = w.Label(value = 'Please select what type of data you are recording: ')\n",
    "        self.checkbox_human = w.Checkbox(description = 'Human')\n",
    "        self.checkbox_animal = w.Checkbox(description = 'Animal')\n",
    "        self.datatype_box = w.HBox([self.datatype_instructions, self.checkbox_human, self.checkbox_animal],\n",
    "                                  layout = {'visibility': 'hidden'})\n",
    "        \n",
    "        self.out = w.Output()\n",
    "        \n",
    "        self.widget = w.VBox([self.manufacturer_box, self.datatype_box, self.out])\n",
    "        \n",
    "        # Bind functions to buttons:\n",
    "        self.confirm_selection.on_click(self.confirm_selection_clicked)\n",
    "        \n",
    "    def confirm_selection_clicked(self, b): #there has to be at least one argument, altough you don´t actually pass anything when calling it\n",
    "        self.datatype_box.layout.visibility = 'visible'\n",
    "        with self.out:\n",
    "            print('Have fun creating GUIs with widgets! :-)')\n",
    "        "
   ]
  },
  {
   "cell_type": "code",
   "execution_count": 15,
   "id": "3991ffd6-eedf-45b8-8ab3-d287a4d19146",
   "metadata": {},
   "outputs": [
    {
     "data": {
      "application/vnd.jupyter.widget-view+json": {
       "model_id": "5805c33100414a11b383281dab6f269e",
       "version_major": 2,
       "version_minor": 0
      },
      "text/plain": [
       "VBox(children=(HBox(children=(Dropdown(description='Please select which DBS electrodes are used: ', layout=Lay…"
      ]
     },
     "metadata": {},
     "output_type": "display_data"
    }
   ],
   "source": [
    "gui = GUI()\n",
    "\n",
    "gui.widget"
   ]
  },
  {
   "cell_type": "code",
   "execution_count": null,
   "id": "04d24d3d-d29a-4582-b68a-0605ca1c01e3",
   "metadata": {},
   "outputs": [],
   "source": []
  }
 ],
 "metadata": {
  "kernelspec": {
   "display_name": "Python 3 (ipykernel)",
   "language": "python",
   "name": "python3"
  },
  "language_info": {
   "codemirror_mode": {
    "name": "ipython",
    "version": 3
   },
   "file_extension": ".py",
   "mimetype": "text/x-python",
   "name": "python",
   "nbconvert_exporter": "python",
   "pygments_lexer": "ipython3",
   "version": "3.7.10"
  }
 },
 "nbformat": 4,
 "nbformat_minor": 5
}
