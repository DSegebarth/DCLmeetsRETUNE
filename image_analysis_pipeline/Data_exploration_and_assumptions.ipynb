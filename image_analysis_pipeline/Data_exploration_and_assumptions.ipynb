{
 "cells": [
  {
   "cell_type": "markdown",
   "id": "12af9e70-fa43-4296-ab35-c48f1b29a010",
   "metadata": {},
   "source": [
    "Notes:\n",
    "We still need to determine the model for the repeated measured non-parametic test and adjust all assumption checking models to it\n",
    "We need to make functions out of the different if/else loops\n",
    "\n",
    "For next meeting:\n",
    "\n",
    "Pymer4 lmer won't run!\n",
    "\n",
    "Check on equal varriance function\n",
    "\n",
    "Indentation issue for \"Make outline for equal varriance testing function\" section"
   ]
  },
  {
   "cell_type": "code",
   "execution_count": 1,
   "id": "dfac0cef-025d-4b4b-b664-39fceea438f3",
   "metadata": {},
   "outputs": [],
   "source": [
    "import sys\n",
    "sys.path.append('/Users/Sofie/Documents/DCL/DCLmeetsRETUNE/image_analysis_pipeline/')"
   ]
  },
  {
   "cell_type": "code",
   "execution_count": 2,
   "id": "cd696a6a-30b4-44cb-8456-b0df07dd73a0",
   "metadata": {},
   "outputs": [],
   "source": [
    "from findmycells.main import Project\n",
    "from findmycells.quantifications import ReconstructCellsIn3DFrom2DInstanceLabels, CountCellsInWholeStructure\n",
    "#from findmycells.inspection import InspectUsingMultiMatchIDX"
   ]
  },
  {
   "cell_type": "code",
   "execution_count": 6,
   "id": "0dec2302-5e2a-4e66-9710-04652b3b1ac4",
   "metadata": {},
   "outputs": [],
   "source": [
    "import pandas as pd\n",
    "import numpy as np\n",
    "import seaborn as sns\n",
    "import pingouin as pg\n",
    "import matplotlib\n",
    "import matplotlib.pyplot as plt\n",
    "from scipy.stats import shapiro\n",
    "import scipy\n",
    "#from statsmodels import qqplot\n",
    "import statsmodels.formula.api as smf\n",
    "#from statsmodels.formula.api import MixedLM\n",
    "from scipy.stats import norm, levene, bartlett\n",
    "import statistics\n",
    "import statsmodels.api as sm\n",
    "from fitter import Fitter, get_common_distributions, get_distributions\n",
    "from pymer4.models import Lm, Lmer"
   ]
  },
  {
   "cell_type": "markdown",
   "id": "4299240f-2c50-4be5-800e-60f68695141d",
   "metadata": {},
   "source": [
    "## Load and Prepare the Data"
   ]
  },
  {
   "cell_type": "code",
   "execution_count": 4,
   "id": "47da210b-8f7c-4d10-a0a2-d9a4a9be3acb",
   "metadata": {},
   "outputs": [],
   "source": [
    "df = pd.read_csv('counted_cells.csv')"
   ]
  },
  {
   "cell_type": "code",
   "execution_count": 15,
   "id": "cbc95bd2-79d1-43ca-aa19-5972ba618828",
   "metadata": {},
   "outputs": [
    {
     "data": {
      "text/html": [
       "<div>\n",
       "<style scoped>\n",
       "    .dataframe tbody tr th:only-of-type {\n",
       "        vertical-align: middle;\n",
       "    }\n",
       "\n",
       "    .dataframe tbody tr th {\n",
       "        vertical-align: top;\n",
       "    }\n",
       "\n",
       "    .dataframe thead th {\n",
       "        text-align: right;\n",
       "    }\n",
       "</style>\n",
       "<table border=\"1\" class=\"dataframe\">\n",
       "  <thead>\n",
       "    <tr style=\"text-align: right;\">\n",
       "      <th></th>\n",
       "      <th>Unnamed: 0</th>\n",
       "      <th>file_id</th>\n",
       "      <th>group_id</th>\n",
       "      <th>subject_id</th>\n",
       "      <th>analyzed_area</th>\n",
       "      <th>total_planes</th>\n",
       "      <th>connected_components</th>\n",
       "      <th>cc_normalized_per_area</th>\n",
       "      <th>cc_normalized_per_volume</th>\n",
       "    </tr>\n",
       "  </thead>\n",
       "  <tbody>\n",
       "    <tr>\n",
       "      <th>51</th>\n",
       "      <td>51</td>\n",
       "      <td>54</td>\n",
       "      <td>wt</td>\n",
       "      <td>#7_wt_old</td>\n",
       "      <td>8767360.0</td>\n",
       "      <td>9.0</td>\n",
       "      <td>86.0</td>\n",
       "      <td>130.837103</td>\n",
       "      <td>14.537456</td>\n",
       "    </tr>\n",
       "    <tr>\n",
       "      <th>52</th>\n",
       "      <td>52</td>\n",
       "      <td>55</td>\n",
       "      <td>wt</td>\n",
       "      <td>#7_wt_old</td>\n",
       "      <td>5892928.0</td>\n",
       "      <td>8.0</td>\n",
       "      <td>12.0</td>\n",
       "      <td>27.161354</td>\n",
       "      <td>3.395169</td>\n",
       "    </tr>\n",
       "    <tr>\n",
       "      <th>53</th>\n",
       "      <td>53</td>\n",
       "      <td>56</td>\n",
       "      <td>wt</td>\n",
       "      <td>#7_wt_old</td>\n",
       "      <td>4314688.0</td>\n",
       "      <td>9.0</td>\n",
       "      <td>70.0</td>\n",
       "      <td>216.396361</td>\n",
       "      <td>24.044040</td>\n",
       "    </tr>\n",
       "    <tr>\n",
       "      <th>54</th>\n",
       "      <td>54</td>\n",
       "      <td>57</td>\n",
       "      <td>wt</td>\n",
       "      <td>#9_wt_old</td>\n",
       "      <td>5140832.0</td>\n",
       "      <td>8.0</td>\n",
       "      <td>46.0</td>\n",
       "      <td>119.350909</td>\n",
       "      <td>14.918864</td>\n",
       "    </tr>\n",
       "    <tr>\n",
       "      <th>55</th>\n",
       "      <td>55</td>\n",
       "      <td>58</td>\n",
       "      <td>wt</td>\n",
       "      <td>#9_wt_old</td>\n",
       "      <td>4477600.0</td>\n",
       "      <td>8.0</td>\n",
       "      <td>71.0</td>\n",
       "      <td>211.501944</td>\n",
       "      <td>26.437743</td>\n",
       "    </tr>\n",
       "    <tr>\n",
       "      <th>56</th>\n",
       "      <td>56</td>\n",
       "      <td>59</td>\n",
       "      <td>wt</td>\n",
       "      <td>#9_wt_old</td>\n",
       "      <td>7410528.0</td>\n",
       "      <td>9.0</td>\n",
       "      <td>184.0</td>\n",
       "      <td>331.184482</td>\n",
       "      <td>36.798276</td>\n",
       "    </tr>\n",
       "    <tr>\n",
       "      <th>57</th>\n",
       "      <td>57</td>\n",
       "      <td>60</td>\n",
       "      <td>wt</td>\n",
       "      <td>#9_wt_old</td>\n",
       "      <td>7109728.0</td>\n",
       "      <td>10.0</td>\n",
       "      <td>152.0</td>\n",
       "      <td>285.162170</td>\n",
       "      <td>28.516217</td>\n",
       "    </tr>\n",
       "    <tr>\n",
       "      <th>58</th>\n",
       "      <td>58</td>\n",
       "      <td>61</td>\n",
       "      <td>wt</td>\n",
       "      <td>#9_wt_old</td>\n",
       "      <td>5770116.0</td>\n",
       "      <td>9.0</td>\n",
       "      <td>123.0</td>\n",
       "      <td>284.329471</td>\n",
       "      <td>31.592163</td>\n",
       "    </tr>\n",
       "    <tr>\n",
       "      <th>59</th>\n",
       "      <td>59</td>\n",
       "      <td>62</td>\n",
       "      <td>wt</td>\n",
       "      <td>#9_wt_old</td>\n",
       "      <td>5751712.0</td>\n",
       "      <td>9.0</td>\n",
       "      <td>86.0</td>\n",
       "      <td>199.435575</td>\n",
       "      <td>22.159508</td>\n",
       "    </tr>\n",
       "    <tr>\n",
       "      <th>60</th>\n",
       "      <td>60</td>\n",
       "      <td>63</td>\n",
       "      <td>wt</td>\n",
       "      <td>#9_wt_old</td>\n",
       "      <td>4715968.0</td>\n",
       "      <td>10.0</td>\n",
       "      <td>96.0</td>\n",
       "      <td>271.519917</td>\n",
       "      <td>27.151992</td>\n",
       "    </tr>\n",
       "  </tbody>\n",
       "</table>\n",
       "</div>"
      ],
      "text/plain": [
       "    Unnamed: 0  file_id group_id subject_id  analyzed_area  total_planes  \\\n",
       "51          51       54       wt  #7_wt_old      8767360.0           9.0   \n",
       "52          52       55       wt  #7_wt_old      5892928.0           8.0   \n",
       "53          53       56       wt  #7_wt_old      4314688.0           9.0   \n",
       "54          54       57       wt  #9_wt_old      5140832.0           8.0   \n",
       "55          55       58       wt  #9_wt_old      4477600.0           8.0   \n",
       "56          56       59       wt  #9_wt_old      7410528.0           9.0   \n",
       "57          57       60       wt  #9_wt_old      7109728.0          10.0   \n",
       "58          58       61       wt  #9_wt_old      5770116.0           9.0   \n",
       "59          59       62       wt  #9_wt_old      5751712.0           9.0   \n",
       "60          60       63       wt  #9_wt_old      4715968.0          10.0   \n",
       "\n",
       "    connected_components  cc_normalized_per_area  cc_normalized_per_volume  \n",
       "51                  86.0              130.837103                 14.537456  \n",
       "52                  12.0               27.161354                  3.395169  \n",
       "53                  70.0              216.396361                 24.044040  \n",
       "54                  46.0              119.350909                 14.918864  \n",
       "55                  71.0              211.501944                 26.437743  \n",
       "56                 184.0              331.184482                 36.798276  \n",
       "57                 152.0              285.162170                 28.516217  \n",
       "58                 123.0              284.329471                 31.592163  \n",
       "59                  86.0              199.435575                 22.159508  \n",
       "60                  96.0              271.519917                 27.151992  "
      ]
     },
     "execution_count": 15,
     "metadata": {},
     "output_type": "execute_result"
    }
   ],
   "source": [
    "df.tail(10)"
   ]
  },
  {
   "cell_type": "code",
   "execution_count": 6,
   "id": "fe25a955-d8ab-457d-a0e5-c4f3f6bc182e",
   "metadata": {},
   "outputs": [
    {
     "data": {
      "text/html": [
       "<div>\n",
       "<style scoped>\n",
       "    .dataframe tbody tr th:only-of-type {\n",
       "        vertical-align: middle;\n",
       "    }\n",
       "\n",
       "    .dataframe tbody tr th {\n",
       "        vertical-align: top;\n",
       "    }\n",
       "\n",
       "    .dataframe thead th {\n",
       "        text-align: right;\n",
       "    }\n",
       "</style>\n",
       "<table border=\"1\" class=\"dataframe\">\n",
       "  <thead>\n",
       "    <tr style=\"text-align: right;\">\n",
       "      <th></th>\n",
       "      <th>Unnamed: 0</th>\n",
       "      <th>file_id</th>\n",
       "      <th>analyzed_area</th>\n",
       "      <th>total_planes</th>\n",
       "      <th>connected_components</th>\n",
       "      <th>cc_normalized_per_area</th>\n",
       "      <th>cc_normalized_per_volume</th>\n",
       "    </tr>\n",
       "  </thead>\n",
       "  <tbody>\n",
       "    <tr>\n",
       "      <th>count</th>\n",
       "      <td>61.000000</td>\n",
       "      <td>61.000000</td>\n",
       "      <td>6.100000e+01</td>\n",
       "      <td>61.000000</td>\n",
       "      <td>61.000000</td>\n",
       "      <td>61.000000</td>\n",
       "      <td>61.000000</td>\n",
       "    </tr>\n",
       "    <tr>\n",
       "      <th>mean</th>\n",
       "      <td>30.000000</td>\n",
       "      <td>31.622951</td>\n",
       "      <td>5.329419e+06</td>\n",
       "      <td>8.442623</td>\n",
       "      <td>63.295082</td>\n",
       "      <td>159.958337</td>\n",
       "      <td>18.747975</td>\n",
       "    </tr>\n",
       "    <tr>\n",
       "      <th>std</th>\n",
       "      <td>17.752934</td>\n",
       "      <td>19.069316</td>\n",
       "      <td>1.715786e+06</td>\n",
       "      <td>0.940294</td>\n",
       "      <td>36.455152</td>\n",
       "      <td>84.831816</td>\n",
       "      <td>9.527849</td>\n",
       "    </tr>\n",
       "    <tr>\n",
       "      <th>min</th>\n",
       "      <td>0.000000</td>\n",
       "      <td>0.000000</td>\n",
       "      <td>4.195400e+05</td>\n",
       "      <td>6.000000</td>\n",
       "      <td>0.000000</td>\n",
       "      <td>0.000000</td>\n",
       "      <td>0.000000</td>\n",
       "    </tr>\n",
       "    <tr>\n",
       "      <th>25%</th>\n",
       "      <td>15.000000</td>\n",
       "      <td>15.000000</td>\n",
       "      <td>4.477600e+06</td>\n",
       "      <td>8.000000</td>\n",
       "      <td>41.000000</td>\n",
       "      <td>92.881431</td>\n",
       "      <td>11.610179</td>\n",
       "    </tr>\n",
       "    <tr>\n",
       "      <th>50%</th>\n",
       "      <td>30.000000</td>\n",
       "      <td>33.000000</td>\n",
       "      <td>5.251488e+06</td>\n",
       "      <td>8.000000</td>\n",
       "      <td>65.000000</td>\n",
       "      <td>169.548150</td>\n",
       "      <td>19.004340</td>\n",
       "    </tr>\n",
       "    <tr>\n",
       "      <th>75%</th>\n",
       "      <td>45.000000</td>\n",
       "      <td>48.000000</td>\n",
       "      <td>6.312800e+06</td>\n",
       "      <td>9.000000</td>\n",
       "      <td>83.000000</td>\n",
       "      <td>216.396361</td>\n",
       "      <td>26.251630</td>\n",
       "    </tr>\n",
       "    <tr>\n",
       "      <th>max</th>\n",
       "      <td>60.000000</td>\n",
       "      <td>63.000000</td>\n",
       "      <td>9.264510e+06</td>\n",
       "      <td>11.000000</td>\n",
       "      <td>184.000000</td>\n",
       "      <td>331.184482</td>\n",
       "      <td>39.079717</td>\n",
       "    </tr>\n",
       "  </tbody>\n",
       "</table>\n",
       "</div>"
      ],
      "text/plain": [
       "       Unnamed: 0    file_id  analyzed_area  total_planes  \\\n",
       "count   61.000000  61.000000   6.100000e+01     61.000000   \n",
       "mean    30.000000  31.622951   5.329419e+06      8.442623   \n",
       "std     17.752934  19.069316   1.715786e+06      0.940294   \n",
       "min      0.000000   0.000000   4.195400e+05      6.000000   \n",
       "25%     15.000000  15.000000   4.477600e+06      8.000000   \n",
       "50%     30.000000  33.000000   5.251488e+06      8.000000   \n",
       "75%     45.000000  48.000000   6.312800e+06      9.000000   \n",
       "max     60.000000  63.000000   9.264510e+06     11.000000   \n",
       "\n",
       "       connected_components  cc_normalized_per_area  cc_normalized_per_volume  \n",
       "count             61.000000               61.000000                 61.000000  \n",
       "mean              63.295082              159.958337                 18.747975  \n",
       "std               36.455152               84.831816                  9.527849  \n",
       "min                0.000000                0.000000                  0.000000  \n",
       "25%               41.000000               92.881431                 11.610179  \n",
       "50%               65.000000              169.548150                 19.004340  \n",
       "75%               83.000000              216.396361                 26.251630  \n",
       "max              184.000000              331.184482                 39.079717  "
      ]
     },
     "execution_count": 6,
     "metadata": {},
     "output_type": "execute_result"
    }
   ],
   "source": [
    "df.describe()"
   ]
  },
  {
   "cell_type": "markdown",
   "id": "43806e93-971b-4ea2-a17e-ab9f00628305",
   "metadata": {},
   "source": [
    "## Let's check normality"
   ]
  },
  {
   "cell_type": "code",
   "execution_count": 24,
   "id": "2cf4dc0b-6cb0-4e60-9795-012921d549bf",
   "metadata": {},
   "outputs": [],
   "source": [
    "stat_results = dict()"
   ]
  },
  {
   "cell_type": "code",
   "execution_count": 25,
   "id": "d621ad7e-c88d-4e8d-bfdf-e93f6273e701",
   "metadata": {},
   "outputs": [],
   "source": [
    "from typing import Dict, List, Tuple\n",
    "\n",
    "def check_normality(data: pd.DataFrame, dv_col: str, results: Dict) -> Dict:\n",
    "    stat, p = shapiro(data[dv_col])\n",
    "    if p >= 0.05:\n",
    "        normal = True\n",
    "    else:\n",
    "        normal = False\n",
    "    results['normal_distribution'] = {'test_statistic': stat, 'p-value': p, 'bool': normal}\n",
    "    return results"
   ]
  },
  {
   "cell_type": "code",
   "execution_count": 26,
   "id": "47ab9e42-7463-4d76-aeb1-f7abf7bcd1aa",
   "metadata": {},
   "outputs": [
    {
     "data": {
      "text/plain": [
       "{'normal_distribution': {'test_statistic': 0.9805209636688232,\n",
       "  'p-value': 0.43962615728378296,\n",
       "  'bool': True}}"
      ]
     },
     "execution_count": 26,
     "metadata": {},
     "output_type": "execute_result"
    }
   ],
   "source": [
    "check_normality(df, 'cc_normalized_per_volume', stat_results)"
   ]
  },
  {
   "cell_type": "markdown",
   "id": "e219ad1d-187f-4bbb-82f1-e2942619f8cf",
   "metadata": {},
   "source": [
    "### Make outline for equal varriance testing function"
   ]
  },
  {
   "cell_type": "code",
   "execution_count": 42,
   "id": "b0ecc281-ba3c-4767-964c-a8bc652c56e5",
   "metadata": {},
   "outputs": [
    {
     "ename": "IndentationError",
     "evalue": "unexpected indent (<ipython-input-42-2236e4426df9>, line 12)",
     "output_type": "error",
     "traceback": [
      "\u001b[0;36m  File \u001b[0;32m\"<ipython-input-42-2236e4426df9>\"\u001b[0;36m, line \u001b[0;32m12\u001b[0m\n\u001b[0;31m    if p_homo >= 0.05:\u001b[0m\n\u001b[0m    ^\u001b[0m\n\u001b[0;31mIndentationError\u001b[0m\u001b[0;31m:\u001b[0m unexpected indent\n"
     ]
    }
   ],
   "source": [
    "#def equal_variance_test(data: pd.DataFrame, dv_col: str, results: Dict) -> Dict:\n",
    "#you where working on ensure this ran so you could make the function below run and then put it into the main function to ensure that equal varriance could be tested\n",
    "    \n",
    "    #Make dataframes compatible for Levene's and Bartlett's test\n",
    "df_tg = df.loc[df['group_id'] == 'tg']\n",
    "df_tg = df_tg.rename(columns={\"cc_normalized_per_volume\": \"tg\"})\n",
    "\n",
    "df_wt = df.loc[df['group_id'] == 'wt']\n",
    "df_wt = df_wt.rename(columns={\"cc_normalized_per_volume\": \"wt\"})\n",
    "\n",
    "if stat_results['normal_distribution']['bool'] == False: #non-normal data\n",
    "    stat, p_homo = levene(df_wt['wt'], df_tg['tg'])\n",
    "        if p_homo >= 0.05:\n",
    "            normal = True\n",
    "            results['fixed_effects_equal_varriance'] = {'test_statistic': stat, 'p-value': p_homo, 'bool': normal}\n",
    "        elif p_homo < 0.05:\n",
    "            normal = False\n",
    "            results['fixed_effects_equal_varriance'] = {'test_statistic': stat, 'p-value': p_homo, 'bool': normal}\n",
    "elif: stat_results['normal_distribution']['bool'] == True: #normal data\n",
    "    stat, p_homo = bartlett(df_wt['wt'], df_tg['tg'])\n",
    "        if p_homo >= 0.05:\n",
    "            normal = True\n",
    "            results['fixed_effects_equal_varriance'] = {'test_statistic': stat, 'p-value': p_homo, 'bool': normal}\n",
    "        elif p_homo < 0.05:\n",
    "            normal = False\n",
    "            results['fixed_effects_equal_varriance'] = {'test_statistic': stat, 'p-value': p_homo, 'bool': normal}\n",
    "else: print('Normality not assessed yet. Please complete normality test before proceeding')"
   ]
  },
  {
   "cell_type": "markdown",
   "id": "b6f426da-792a-42fd-9115-ff24207f1399",
   "metadata": {},
   "source": [
    "#### Attempt to make function out of the code above"
   ]
  },
  {
   "cell_type": "code",
   "execution_count": null,
   "id": "93d7b12c-3c49-45a6-9f99-28f9269deb06",
   "metadata": {},
   "outputs": [],
   "source": [
    "def equal_variance_test(data: pd.DataFrame, dv_col: str, iv_col: str, results: Dict) -> Dict:\n",
    "    #note that in iv_col we NEED items to be called 'tg' and 'wt' --> how to work around? we just need to seperate based on level\n",
    "    \n",
    "    #Make dataframes compatible for Levene's and Bartlett's test\n",
    "    df_tg = data.loc[data[iv_col] == 'tg']\n",
    "    df_tg = df_tg.rename(columns={dv_col: \"tg\"})\n",
    "\n",
    "    df_wt = data.loc[data[iv_col] == 'wt']\n",
    "    df_wt = df_wt.rename(columns={dv_col: \"wt\"})\n",
    "\n",
    "    if stat_results['normal_distribution']['bool'] == False: #non-normal data\n",
    "        stat, p_homo = levene(df_wt['wt'], df_tg['tg'])\n",
    "        if p_homo >= 0.05:\n",
    "            normal = True\n",
    "            results['fixed_effects_equal_varriance'] = {'test_statistic': stat, 'p-value': p_homo, 'bool': normal}\n",
    "        elif p_homo < 0.05:\n",
    "            normal = False\n",
    "            results['fixed_effects_equal_varriance'] = {'test_statistic': stat, 'p-value': p_homo, 'bool': normal}\n",
    "    elif: stat_results['normal_distribution']['bool'] == True: #normal data\n",
    "        stat, p_homo = bartlett(df_wt['wt'], df_tg['tg'])\n",
    "        if p_homo >= 0.05:\n",
    "            normal = True\n",
    "            results['fixed_effects_equal_varriance'] = {'test_statistic': stat, 'p-value': p_homo, 'bool': normal}\n",
    "        elif p_homo < 0.05:\n",
    "            normal = False\n",
    "            results['fixed_effects_equal_varriance'] = {'test_statistic': stat, 'p-value': p_homo, 'bool': normal}\n",
    "    else: print('Normality not assessed yet. Please complete normality test before proceeding')\n",
    "    return results"
   ]
  },
  {
   "cell_type": "markdown",
   "id": "25cf2bda-8be9-4e77-8df6-18d963298803",
   "metadata": {},
   "source": [
    "### create function for LMER"
   ]
  },
  {
   "cell_type": "code",
   "execution_count": 9,
   "id": "06a5368a-800f-4dfb-83d9-53ba750e7aff",
   "metadata": {},
   "outputs": [],
   "source": [
    "from statsmodels.regression.mixed_linear_model import MixedLMResultsWrapper\n",
    "\n",
    "def create_a_mixed_linear_model(data: pd.DataFrame, dv_col: str, fixed_effects_col: str, random_effects_col: str) -> MixedLMResultsWrapper:\n",
    "    return smf.mixedlm(f\"{dv_col} ~ {fixed_effects_col}\", data, groups = random_effects_col).fit()\n"
   ]
  },
  {
   "cell_type": "markdown",
   "id": "6600d53e-38e3-4e11-9946-ce52ac805dad",
   "metadata": {},
   "source": [
    "### Initial function for normality and model creation"
   ]
  },
  {
   "cell_type": "code",
   "execution_count": 190,
   "id": "e3edf2e1-7aa9-4a01-a0fc-4c85296254a7",
   "metadata": {},
   "outputs": [
    {
     "ename": "SyntaxError",
     "evalue": "unexpected EOF while parsing (<ipython-input-190-413774167b35>, line 5)",
     "output_type": "error",
     "traceback": [
      "\u001b[0;36m  File \u001b[0;32m\"<ipython-input-190-413774167b35>\"\u001b[0;36m, line \u001b[0;32m5\u001b[0m\n\u001b[0;31m    # exit to get user feedback\u001b[0m\n\u001b[0m                               ^\u001b[0m\n\u001b[0;31mSyntaxError\u001b[0m\u001b[0;31m:\u001b[0m unexpected EOF while parsing\n"
     ]
    }
   ],
   "source": [
    "stat_results = check_normality(data=df, dv_col='cc_normalized_per_volume', results = stat_results)\n",
    "if stat_results['normal_distribution']['bool']:\n",
    "    model = create_a_mixed_linear_model(data = df, dv_col = 'cc_normalized_per_volume', fixed_effects_col = 'group_id', random_effects_col = 'subject_id')\n",
    "else:\n",
    "    # exit to get user feedback\n",
    "    "
   ]
  },
  {
   "cell_type": "markdown",
   "id": "18f82068-4fca-40f4-b0c0-99cc740b7f25",
   "metadata": {},
   "source": [
    "### Define plot for equal varriance"
   ]
  },
  {
   "cell_type": "code",
   "execution_count": 212,
   "id": "98383769-1c7f-4c86-a529-7cd0a825a5de",
   "metadata": {},
   "outputs": [],
   "source": [
    "def plot_fixed_effect_varriance(data: pd.DataFrame, dv_col: str, fixed_effects_col: str, random_effects_col: str) -> plt:\n",
    "    fig = plt.figure(figsize=(10,12), facecolor='white')\n",
    "    gs = fig.add_gridspec(2, 1)\n",
    "    ax1 = fig.add_subplot(gs[0,0])\n",
    "    sns.violinplot(data = data[data[fixed_effects_col] == 'wt'], x=random_effects_col, y=dv_col, ax = ax1)\n",
    "    ax2 = fig.add_subplot(gs[1,0])\n",
    "    sns.violinplot(data = data[data[fixed_effects_col] == 'tg'], x=random_effects_col, y=dv_col, ax = ax2)\n",
    "    plt.show()"
   ]
  },
  {
   "cell_type": "code",
   "execution_count": 213,
   "id": "a926c73b-ba4a-43eb-80a4-63db4280ab92",
   "metadata": {},
   "outputs": [
    {
     "data": {
      "image/png": "[encoded data removed]",
      "text/plain": [
       "<Figure size 720x864 with 2 Axes>"
      ]
     },
     "metadata": {},
     "output_type": "display_data"
    }
   ],
   "source": [
    "plot_fixed_effect_varriance(data = df, dv_col = 'cc_normalized_per_volume', fixed_effects_col = 'group_id', random_effects_col = 'subject_id')"
   ]
  },
  {
   "cell_type": "markdown",
   "id": "8b72c3f6-fdc7-4a93-a9e3-b0ab15bb4dd1",
   "metadata": {},
   "source": [
    "### Define fitter plot"
   ]
  },
  {
   "cell_type": "code",
   "execution_count": null,
   "id": "2337e1d4-2268-4964-986a-8ba98a5028db",
   "metadata": {},
   "outputs": [],
   "source": [
    "def visualize_distributions(data: pd.DataFrame, dv_col: str, distributions: list):\n",
    "    f = Fitter(data[dv_col], distributions=distributions)\n",
    "    f.fit()\n",
    "    return f.summary()\n"
   ]
  },
  {
   "cell_type": "code",
   "execution_count": null,
   "id": "984933da-1b03-4452-acd1-27b09073d83b",
   "metadata": {},
   "outputs": [],
   "source": [
    "visualize_distributions(data=df, dv_col='cc_normalized_per_volume', distributions=[\"gamma\",\"lognorm\",\"norm\"])"
   ]
  },
  {
   "cell_type": "markdown",
   "id": "2a490bc7-5661-4f23-b39a-93c115203b55",
   "metadata": {},
   "source": [
    "### Play with pymer4\n",
    "https://eshinjolly.com/pymer4/auto_examples/example_01_basic_usage.html#sphx-glr-auto-examples-example-01-basic-usage-py"
   ]
  },
  {
   "cell_type": "code",
   "execution_count": 5,
   "id": "a6b2d891-746f-45f3-a2e3-1773e0adcf54",
   "metadata": {},
   "outputs": [
    {
     "name": "stdout",
     "output_type": "stream",
     "text": [
      "Formula: cc_normalized_per_volume~group_id\n",
      "\n",
      "Family: gaussian\t Estimator: OLS\n",
      "\n",
      "Std-errors: non-robust\tCIs: standard 95%\tInference: parametric \n",
      "\n",
      "Number of observations: 61\t R^2: 0.000\t R^2_adj: -0.017\n",
      "\n",
      "Log-likelihood: -223.555 \t AIC: 451.111\t BIC: 455.332\n",
      "\n",
      "Fixed effects:\n",
      "\n",
      "                Estimate  2.5_ci  97.5_ci     SE  DF  T-stat  P-val  Sig\n",
      "Intercept         18.846  15.336   22.356  1.754  59  10.744  0.000  ***\n",
      "group_id[T.wt]    -0.194  -5.117    4.730  2.461  59  -0.079  0.937     \n"
     ]
    }
   ],
   "source": [
    "#LM models\n",
    "model = Lm(\"cc_normalized_per_volume ~ group_id\", data=df)\n",
    "print(model.fit())"
   ]
  },
  {
   "cell_type": "code",
   "execution_count": null,
   "id": "04d07cf8-4039-49b4-b4c1-91e13d00c3ea",
   "metadata": {},
   "outputs": [],
   "source": []
  },
  {
   "cell_type": "code",
   "execution_count": 14,
   "id": "91b1a10d-d9a2-4510-961b-a82b88697609",
   "metadata": {},
   "outputs": [
    {
     "ename": "ValueError",
     "evalue": "Length mismatch: Expected axis has 7 elements, new values have 2 elements",
     "output_type": "error",
     "traceback": [
      "\u001b[0;31m---------------------------------------------------------------------------\u001b[0m",
      "\u001b[0;31mValueError\u001b[0m                                Traceback (most recent call last)",
      "\u001b[0;32m<ipython-input-14-460dc7c68188>\u001b[0m in \u001b[0;36m<module>\u001b[0;34m\u001b[0m\n\u001b[1;32m      1\u001b[0m \u001b[0mmodel\u001b[0m \u001b[0;34m=\u001b[0m \u001b[0mLmer\u001b[0m\u001b[0;34m(\u001b[0m\u001b[0;34m\"cc_normalized_per_volume ~ group_id + (1|subject_id)\"\u001b[0m\u001b[0;34m,\u001b[0m \u001b[0mdata\u001b[0m\u001b[0;34m=\u001b[0m\u001b[0mdf\u001b[0m\u001b[0;34m)\u001b[0m\u001b[0;34m\u001b[0m\u001b[0;34m\u001b[0m\u001b[0m\n\u001b[0;32m----> 2\u001b[0;31m \u001b[0mprint\u001b[0m\u001b[0;34m(\u001b[0m\u001b[0mmodel\u001b[0m\u001b[0;34m.\u001b[0m\u001b[0mfit\u001b[0m\u001b[0;34m(\u001b[0m\u001b[0;34m)\u001b[0m\u001b[0;34m)\u001b[0m\u001b[0;34m\u001b[0m\u001b[0;34m\u001b[0m\u001b[0m\n\u001b[0m",
      "\u001b[0;32m~/opt/anaconda3/envs/DCL_image/lib/python3.8/site-packages/pymer4/models/Lmer.py\u001b[0m in \u001b[0;36mfit\u001b[0;34m(self, conf_int, n_boot, factors, permute, ordered, verbose, REML, rank, rank_group, rank_exclude_cols, no_warnings, control, old_optimizer, **kwargs)\u001b[0m\n\u001b[1;32m    531\u001b[0m                 \u001b[0mdf\u001b[0m \u001b[0;34m=\u001b[0m \u001b[0mpd\u001b[0m\u001b[0;34m.\u001b[0m\u001b[0mDataFrame\u001b[0m\u001b[0;34m(\u001b[0m\u001b[0mout_summary\u001b[0m\u001b[0;34m)\u001b[0m\u001b[0;34m\u001b[0m\u001b[0;34m\u001b[0m\u001b[0m\n\u001b[1;32m    532\u001b[0m                 \u001b[0mdfshape\u001b[0m \u001b[0;34m=\u001b[0m \u001b[0mdf\u001b[0m\u001b[0;34m.\u001b[0m\u001b[0mshape\u001b[0m\u001b[0;34m[\u001b[0m\u001b[0;36m1\u001b[0m\u001b[0;34m]\u001b[0m\u001b[0;34m\u001b[0m\u001b[0;34m\u001b[0m\u001b[0m\n\u001b[0;32m--> 533\u001b[0;31m                 \u001b[0mdf\u001b[0m\u001b[0;34m.\u001b[0m\u001b[0mindex\u001b[0m \u001b[0;34m=\u001b[0m \u001b[0mout_rownames\u001b[0m\u001b[0;34m\u001b[0m\u001b[0;34m\u001b[0m\u001b[0m\n\u001b[0m\u001b[1;32m    534\u001b[0m \u001b[0;34m\u001b[0m\u001b[0m\n\u001b[1;32m    535\u001b[0m                 \u001b[0;31m# gaussian\u001b[0m\u001b[0;34m\u001b[0m\u001b[0;34m\u001b[0m\u001b[0;34m\u001b[0m\u001b[0m\n",
      "\u001b[0;32m~/opt/anaconda3/envs/DCL_image/lib/python3.8/site-packages/pandas/core/generic.py\u001b[0m in \u001b[0;36m__setattr__\u001b[0;34m(self, name, value)\u001b[0m\n\u001b[1;32m   5150\u001b[0m         \u001b[0;32mtry\u001b[0m\u001b[0;34m:\u001b[0m\u001b[0;34m\u001b[0m\u001b[0;34m\u001b[0m\u001b[0m\n\u001b[1;32m   5151\u001b[0m             \u001b[0mobject\u001b[0m\u001b[0;34m.\u001b[0m\u001b[0m__getattribute__\u001b[0m\u001b[0;34m(\u001b[0m\u001b[0mself\u001b[0m\u001b[0;34m,\u001b[0m \u001b[0mname\u001b[0m\u001b[0;34m)\u001b[0m\u001b[0;34m\u001b[0m\u001b[0;34m\u001b[0m\u001b[0m\n\u001b[0;32m-> 5152\u001b[0;31m             \u001b[0;32mreturn\u001b[0m \u001b[0mobject\u001b[0m\u001b[0;34m.\u001b[0m\u001b[0m__setattr__\u001b[0m\u001b[0;34m(\u001b[0m\u001b[0mself\u001b[0m\u001b[0;34m,\u001b[0m \u001b[0mname\u001b[0m\u001b[0;34m,\u001b[0m \u001b[0mvalue\u001b[0m\u001b[0;34m)\u001b[0m\u001b[0;34m\u001b[0m\u001b[0;34m\u001b[0m\u001b[0m\n\u001b[0m\u001b[1;32m   5153\u001b[0m         \u001b[0;32mexcept\u001b[0m \u001b[0mAttributeError\u001b[0m\u001b[0;34m:\u001b[0m\u001b[0;34m\u001b[0m\u001b[0;34m\u001b[0m\u001b[0m\n\u001b[1;32m   5154\u001b[0m             \u001b[0;32mpass\u001b[0m\u001b[0;34m\u001b[0m\u001b[0;34m\u001b[0m\u001b[0m\n",
      "\u001b[0;32mpandas/_libs/properties.pyx\u001b[0m in \u001b[0;36mpandas._libs.properties.AxisProperty.__set__\u001b[0;34m()\u001b[0m\n",
      "\u001b[0;32m~/opt/anaconda3/envs/DCL_image/lib/python3.8/site-packages/pandas/core/generic.py\u001b[0m in \u001b[0;36m_set_axis\u001b[0;34m(self, axis, labels)\u001b[0m\n\u001b[1;32m    562\u001b[0m     \u001b[0;32mdef\u001b[0m \u001b[0m_set_axis\u001b[0m\u001b[0;34m(\u001b[0m\u001b[0mself\u001b[0m\u001b[0;34m,\u001b[0m \u001b[0maxis\u001b[0m\u001b[0;34m:\u001b[0m \u001b[0mint\u001b[0m\u001b[0;34m,\u001b[0m \u001b[0mlabels\u001b[0m\u001b[0;34m:\u001b[0m \u001b[0mIndex\u001b[0m\u001b[0;34m)\u001b[0m \u001b[0;34m->\u001b[0m \u001b[0;32mNone\u001b[0m\u001b[0;34m:\u001b[0m\u001b[0;34m\u001b[0m\u001b[0;34m\u001b[0m\u001b[0m\n\u001b[1;32m    563\u001b[0m         \u001b[0mlabels\u001b[0m \u001b[0;34m=\u001b[0m \u001b[0mensure_index\u001b[0m\u001b[0;34m(\u001b[0m\u001b[0mlabels\u001b[0m\u001b[0;34m)\u001b[0m\u001b[0;34m\u001b[0m\u001b[0;34m\u001b[0m\u001b[0m\n\u001b[0;32m--> 564\u001b[0;31m         \u001b[0mself\u001b[0m\u001b[0;34m.\u001b[0m\u001b[0m_mgr\u001b[0m\u001b[0;34m.\u001b[0m\u001b[0mset_axis\u001b[0m\u001b[0;34m(\u001b[0m\u001b[0maxis\u001b[0m\u001b[0;34m,\u001b[0m \u001b[0mlabels\u001b[0m\u001b[0;34m)\u001b[0m\u001b[0;34m\u001b[0m\u001b[0;34m\u001b[0m\u001b[0m\n\u001b[0m\u001b[1;32m    565\u001b[0m         \u001b[0mself\u001b[0m\u001b[0;34m.\u001b[0m\u001b[0m_clear_item_cache\u001b[0m\u001b[0;34m(\u001b[0m\u001b[0;34m)\u001b[0m\u001b[0;34m\u001b[0m\u001b[0;34m\u001b[0m\u001b[0m\n\u001b[1;32m    566\u001b[0m \u001b[0;34m\u001b[0m\u001b[0m\n",
      "\u001b[0;32m~/opt/anaconda3/envs/DCL_image/lib/python3.8/site-packages/pandas/core/internals/managers.py\u001b[0m in \u001b[0;36mset_axis\u001b[0;34m(self, axis, new_labels)\u001b[0m\n\u001b[1;32m    224\u001b[0m \u001b[0;34m\u001b[0m\u001b[0m\n\u001b[1;32m    225\u001b[0m         \u001b[0;32mif\u001b[0m \u001b[0mnew_len\u001b[0m \u001b[0;34m!=\u001b[0m \u001b[0mold_len\u001b[0m\u001b[0;34m:\u001b[0m\u001b[0;34m\u001b[0m\u001b[0;34m\u001b[0m\u001b[0m\n\u001b[0;32m--> 226\u001b[0;31m             raise ValueError(\n\u001b[0m\u001b[1;32m    227\u001b[0m                 \u001b[0;34mf\"Length mismatch: Expected axis has {old_len} elements, new \"\u001b[0m\u001b[0;34m\u001b[0m\u001b[0;34m\u001b[0m\u001b[0m\n\u001b[1;32m    228\u001b[0m                 \u001b[0;34mf\"values have {new_len} elements\"\u001b[0m\u001b[0;34m\u001b[0m\u001b[0;34m\u001b[0m\u001b[0m\n",
      "\u001b[0;31mValueError\u001b[0m: Length mismatch: Expected axis has 7 elements, new values have 2 elements"
     ]
    }
   ],
   "source": [
    "model = Lmer(\"cc_normalized_per_volume ~ group_id + (1|subject_id)\", data=df)\n",
    "print(model.fit())\n"
   ]
  },
  {
   "cell_type": "markdown",
   "id": "02cb4f70-a351-48c2-8742-98dae2d0714e",
   "metadata": {},
   "source": [
    "### Funtion for GLM"
   ]
  },
  {
   "cell_type": "code",
   "execution_count": null,
   "id": "cb33260e-10f0-47a1-a192-f1ed65ab87bd",
   "metadata": {},
   "outputs": [],
   "source": [
    "df.loc[df['group_id'] == 'wt', 'group_id'] = -1\n",
    "df.loc[df['group_id'] == 'tg', 'group_id'] = 1\n",
    "df['group_id'] = pd.Categorical(df['group_id'])\n",
    "df['cc_normalized_per_volume']"
   ]
  },
  {
   "cell_type": "code",
   "execution_count": null,
   "id": "a3389d4e-4b60-43fd-a0c3-3b7eac276ce7",
   "metadata": {},
   "outputs": [],
   "source": [
    "#make GLM run - endo = DV, exo = IDV\n",
    "glm = sm.GLM(df['cc_normalized_per_volume'], df['group_id'], family=sm.families.Gaussian()) #supports Gamma, InverseGaussian, Gaussian\n",
    "res = glm.fit()\n",
    "print(res.summary())"
   ]
  },
  {
   "cell_type": "markdown",
   "id": "165f7bb4-550c-4b16-b10e-e90aaee8db34",
   "metadata": {},
   "source": [
    "## Main function"
   ]
  },
  {
   "cell_type": "code",
   "execution_count": null,
   "id": "0464d090-ec96-4c66-b93f-8e0daf412e43",
   "metadata": {},
   "outputs": [],
   "source": [
    "# Example how the bigger picture could look like\n",
    "#note! equal_variance_test() is not functioning yet\n",
    "#Note: make dict a global varribale and append for each function?\n",
    "def compute_statistics(data: pd.DataFrame, dv_col: str, iv_col: str, results: Dictdistribution_type: Optional[str]=None) -> Dict:\n",
    "    stat_results = check_normality(data=df, dv_col='cc_normalized_per_volume', results = stat_results)\n",
    "    if stat_results['normal_distribution']['bool']:\n",
    "        model = create_a_mixed_linear_model(data = df, dv_col = 'cc_normalized_per_volume', fixed_effects_col = 'group_id', random_effects_col = 'subject_id')\n",
    "        return model\n",
    "    else:\n",
    "        #Visualize the equaliy between the different groups\n",
    "        print(\"Normality could not be assumed. To determine which statistical model to use, please select if the varriance between different the different groups is equal\")\n",
    "        plot_fixed_effect_varriance(data = df, dv_col = 'cc_normalized_per_volume', fixed_effects_col = 'group_id', random_effects_col = 'subject_id')\n",
    "        #exit to make the user decide if varriance is equal and somehow note that in the results file. Note as 'fixed_effects_equal_varriance'\n",
    "        # exit if distribution_type == None:\n",
    "            # exit\n",
    "        # if defined: adjusted_model = create_adjusted_model(data, distribution_type\n",
    "        \n",
    "        #ALTERNATIVELY\n",
    "    else:\n",
    "        #Make dataframes compatible for Levene's and Bartlett's test\n",
    "        equal_variance_test(data, dv_col, iv_col, results)"
   ]
  },
  {
   "cell_type": "markdown",
   "id": "e8050c4c-3af0-4305-a3fe-c8adf0cd54b2",
   "metadata": {},
   "source": [
    "Model below is a continuation to deal with non-normal data"
   ]
  },
  {
   "cell_type": "code",
   "execution_count": null,
   "id": "fea20e05-86e4-4425-8caf-fd25424cd2b2",
   "metadata": {},
   "outputs": [],
   "source": [
    "def compute_statistics_non_normal(data: pd.DataFrame, dv_col: str, distribution_type: Optional[str]=None) -> Dict:\n",
    "    #if we have equal varriance in fixed effects and not yet a determined GLM distribution\n",
    "    if stat_results['fixed_effects_equal_varriance']['bool'] == True: #if we have equal varriance\n",
    "        #GLM can only handle gamma, inverse gausian or normal\n",
    "        visualize_distributions(data=df, dv_col='cc_normalized_per_volume', distributions=[\"gamma\",\"invgauss\",\"norm\"])\n",
    "        print(\"Your data can be used in a generlized linear model. Please select the name of the distribution that matches your data. If none, please note none.\")\n",
    "        #make an entery in stat_results['GLM_distribution']\n",
    "        # if stat_results['GLM_distribution'] == 'none', then restart model\n",
    "        #if stat_results['GLM_distribution'] is anything else than none, run GLM with that distribution\n",
    "        \n",
    "        #if we have equal varriance in fixed effects and have determined that no GLM distribution will work\n",
    "    elif: stat_results['GLM_distribution'] == 'none' OR stat_results['GLMM_distribution'] == 'none': #if GLM won't work \n",
    "        #run non-parametric function on aggragated data\n",
    "        #find a good parametic model\n",
    "        \n",
    "        #in cases there there is no equal varriance\n",
    "    elif: stat_results['fixed_effects_equal_varriance']['bool'] == False:\n",
    "        #run GLMM - can only handle gamma, lognorm, norm\n",
    "        visualize_distributions(data=df, dv_col='cc_normalized_per_volume', distributions=[\"gamma\",\"lognorm\",\"norm\"])\n",
    "        print(\"Your data can be used in a generlized linear mixed effects model. Please select the name of the distribution that matches your data. If none, please note none.\")\n",
    "        #make an entery in stat_results['GLMM_distribution']\n",
    "        # if stat_results['GLMM_distribution'] == 'none', then restart model\n",
    "        #if stat_results['GLMM_distribution'] is anything else than none, run GLMM with that distribution\n",
    "        \n",
    "    #elif: stat_results['fixed_effects_equal_varriance']['bool'] == False & stat_results['GLMM_distribution'] == 'none':\n",
    "        #run non-parametric function on aggragated data\n",
    "        #find a way to aggragate data across subject_id without losing group_id\n",
    "        #find a good parametic model\n",
    "        \n",
    "        #exit to make the user decide if varriance is equal and somehow note that in the results file\n",
    "        # exit if distribution_type == None:\n",
    "            # exit\n",
    "        # if defined: adjusted_model = create_adjusted_model(data, distribution_type"
   ]
  },
  {
   "cell_type": "code",
   "execution_count": 247,
   "id": "248b5dcb-4d49-4b77-a9de-f694eb7ea655",
   "metadata": {},
   "outputs": [
    {
     "data": {
      "text/html": [
       "<div>\n",
       "<style scoped>\n",
       "    .dataframe tbody tr th:only-of-type {\n",
       "        vertical-align: middle;\n",
       "    }\n",
       "\n",
       "    .dataframe tbody tr th {\n",
       "        vertical-align: top;\n",
       "    }\n",
       "\n",
       "    .dataframe thead th {\n",
       "        text-align: right;\n",
       "    }\n",
       "</style>\n",
       "<table border=\"1\" class=\"dataframe\">\n",
       "  <thead>\n",
       "    <tr style=\"text-align: right;\">\n",
       "      <th></th>\n",
       "      <th>subject_id</th>\n",
       "      <th>Unnamed: 0</th>\n",
       "      <th>file_id</th>\n",
       "      <th>group_id</th>\n",
       "      <th>analyzed_area</th>\n",
       "      <th>total_planes</th>\n",
       "      <th>connected_components</th>\n",
       "      <th>cc_normalized_per_area</th>\n",
       "      <th>cc_normalized_per_volume</th>\n",
       "    </tr>\n",
       "  </thead>\n",
       "  <tbody>\n",
       "    <tr>\n",
       "      <th>0</th>\n",
       "      <td>#10_tg_old</td>\n",
       "      <td>{0, 1, 2, 3, 4, 5}</td>\n",
       "      <td>{0, 1, 2, 3, 4, 5}</td>\n",
       "      <td>{tg}</td>\n",
       "      <td>{1118784.0, 6422816.0, 4181696.0, 5697120.0, 5...</td>\n",
       "      <td>{8.0, 9.0}</td>\n",
       "      <td>{0.0, 32.0, 64.0, 69.0, 73.0, 16.0}</td>\n",
       "      <td>{0.0, 66.45471610969527, 39.557767625361855, 2...</td>\n",
       "      <td>{0.0, 4.944720953170234, 8.306839513711909, 18...</td>\n",
       "    </tr>\n",
       "    <tr>\n",
       "      <th>1</th>\n",
       "      <td>#11_tg_old</td>\n",
       "      <td>{6, 7, 8, 9, 10, 11}</td>\n",
       "      <td>{6, 7, 8, 9, 10, 11}</td>\n",
       "      <td>{tg}</td>\n",
       "      <td>{3145632.0, 5585408.0, 4864864.0, 6271584.0, 5...</td>\n",
       "      <td>{6.0, 7.0, 8.0, 9.0, 10.0, 11.0}</td>\n",
       "      <td>{69.0, 147.0, 53.0, 85.0, 87.0, 89.0}</td>\n",
       "      <td>{128.68719163583685, 258.8572590324544, 292.57...</td>\n",
       "      <td>{39.07971731852778, 21.447865272639472, 25.885...</td>\n",
       "    </tr>\n",
       "    <tr>\n",
       "      <th>2</th>\n",
       "      <td>#12_tg_old</td>\n",
       "      <td>{12, 13, 14, 15, 16, 17, 18}</td>\n",
       "      <td>{12, 13, 14, 15, 16, 17, 18}</td>\n",
       "      <td>{tg}</td>\n",
       "      <td>{4786560.0, 5889504.0, 5781600.0, 3744096.0, 5...</td>\n",
       "      <td>{8.0, 9.0}</td>\n",
       "      <td>{35.0, 38.0, 49.0, 19.0, 53.0, 24.0, 25.0}</td>\n",
       "      <td>{69.66550839499172, 43.030479859760696, 80.957...</td>\n",
       "      <td>{5.378809982470087, 8.708188549373968, 8.99532...</td>\n",
       "    </tr>\n",
       "    <tr>\n",
       "      <th>3</th>\n",
       "      <td>#15_wt_old</td>\n",
       "      <td>{32, 33, 34, 35, 30, 31}</td>\n",
       "      <td>{33, 34, 35, 36, 37, 38}</td>\n",
       "      <td>{wt}</td>\n",
       "      <td>{5821568.0, 5198432.0, 5624544.0, 4039840.0, 5...</td>\n",
       "      <td>{8.0, 9.0}</td>\n",
       "      <td>{70.0, 72.0, 74.0, 83.0, 51.0, 58.0}</td>\n",
       "      <td>{169.5481495973026, 237.72214525471782, 177.79...</td>\n",
       "      <td>{15.11799439120728, 18.83868328858918, 19.7548...</td>\n",
       "    </tr>\n",
       "    <tr>\n",
       "      <th>4</th>\n",
       "      <td>#20_wt_old</td>\n",
       "      <td>{36, 37, 38, 39, 40, 41}</td>\n",
       "      <td>{39, 40, 41, 42, 43, 44}</td>\n",
       "      <td>{wt}</td>\n",
       "      <td>{4846016.0, 7168000.0, 6939936.0, 6441280.0, 4...</td>\n",
       "      <td>{8.0, 9.0, 10.0, 7.0}</td>\n",
       "      <td>{41.0, 13.0, 14.0, 19.0, 53.0, 26.0}</td>\n",
       "      <td>{36.517366047176814, 38.06699051250394, 48.381...</td>\n",
       "      <td>{3.3649800709026088, 4.564670755897102, 5.4381...</td>\n",
       "    </tr>\n",
       "    <tr>\n",
       "      <th>5</th>\n",
       "      <td>#21_wt_old</td>\n",
       "      <td>{42, 43, 44, 45, 46, 47}</td>\n",
       "      <td>{45, 46, 47, 48, 49, 50}</td>\n",
       "      <td>{wt}</td>\n",
       "      <td>{6894496.0, 6043904.0, 7025952.0, 2560096.0, 7...</td>\n",
       "      <td>{9.0, 10.0}</td>\n",
       "      <td>{65.0, 99.0, 132.0, 102.0, 84.0, 59.0}</td>\n",
       "      <td>{192.5740105289468, 307.39519167913653, 218.48...</td>\n",
       "      <td>{13.97235568204844, 17.718742938878954, 19.004...</td>\n",
       "    </tr>\n",
       "    <tr>\n",
       "      <th>6</th>\n",
       "      <td>#5_tg_old</td>\n",
       "      <td>{19, 20, 21, 22, 23, 24, 25}</td>\n",
       "      <td>{19, 20, 21, 22, 23, 24, 25}</td>\n",
       "      <td>{tg}</td>\n",
       "      <td>{4422592.0, 4941856.0, 4094560.0, 6312800.0, 3...</td>\n",
       "      <td>{8.0, 6.0, 7.0}</td>\n",
       "      <td>{65.0, 70.0, 41.0, 74.0, 75.0, 52.0, 84.0}</td>\n",
       "      <td>{293.95110707257726, 175.4383683466581, 177.48...</td>\n",
       "      <td>{36.74388838407216, 19.603688362936087, 22.592...</td>\n",
       "    </tr>\n",
       "    <tr>\n",
       "      <th>7</th>\n",
       "      <td>#7_wt_old</td>\n",
       "      <td>{48, 49, 50, 51, 52, 53}</td>\n",
       "      <td>{51, 52, 53, 54, 55, 56}</td>\n",
       "      <td>{wt}</td>\n",
       "      <td>{5079872.0, 8607776.0, 5892928.0, 8767360.0, 7...</td>\n",
       "      <td>{8.0, 9.0}</td>\n",
       "      <td>{70.0, 12.0, 49.0, 50.0, 86.0}</td>\n",
       "      <td>{130.8371034575029, 131.28603864945092, 108.46...</td>\n",
       "      <td>{3.3951692862678615, 10.721738183178516, 13.55...</td>\n",
       "    </tr>\n",
       "    <tr>\n",
       "      <th>8</th>\n",
       "      <td>#8_tg_old</td>\n",
       "      <td>{26, 27, 28, 29}</td>\n",
       "      <td>{32, 26, 27, 31}</td>\n",
       "      <td>{tg}</td>\n",
       "      <td>{7858784.0, 5415904.0, 419540.0, 2713216.0}</td>\n",
       "      <td>{8.0}</td>\n",
       "      <td>{64.0, 0.0, 19.0, 80.0}</td>\n",
       "      <td>{0.0, 197.02454747388825, 108.62403494098032, ...</td>\n",
       "      <td>{0.0, 24.62806843423603, 11.675636184880785, 1...</td>\n",
       "    </tr>\n",
       "    <tr>\n",
       "      <th>9</th>\n",
       "      <td>#9_wt_old</td>\n",
       "      <td>{54, 55, 56, 57, 58, 59, 60}</td>\n",
       "      <td>{57, 58, 59, 60, 61, 62, 63}</td>\n",
       "      <td>{wt}</td>\n",
       "      <td>{5140832.0, 7410528.0, 7109728.0, 4477600.0, 5...</td>\n",
       "      <td>{8.0, 9.0, 10.0}</td>\n",
       "      <td>{96.0, 71.0, 46.0, 86.0, 184.0, 123.0, 152.0}</td>\n",
       "      <td>{199.4355745505291, 331.1844823948643, 271.519...</td>\n",
       "      <td>{36.79827582165159, 14.91886357082283, 22.1595...</td>\n",
       "    </tr>\n",
       "  </tbody>\n",
       "</table>\n",
       "</div>"
      ],
      "text/plain": [
       "   subject_id                    Unnamed: 0                       file_id  \\\n",
       "0  #10_tg_old            {0, 1, 2, 3, 4, 5}            {0, 1, 2, 3, 4, 5}   \n",
       "1  #11_tg_old          {6, 7, 8, 9, 10, 11}          {6, 7, 8, 9, 10, 11}   \n",
       "2  #12_tg_old  {12, 13, 14, 15, 16, 17, 18}  {12, 13, 14, 15, 16, 17, 18}   \n",
       "3  #15_wt_old      {32, 33, 34, 35, 30, 31}      {33, 34, 35, 36, 37, 38}   \n",
       "4  #20_wt_old      {36, 37, 38, 39, 40, 41}      {39, 40, 41, 42, 43, 44}   \n",
       "5  #21_wt_old      {42, 43, 44, 45, 46, 47}      {45, 46, 47, 48, 49, 50}   \n",
       "6   #5_tg_old  {19, 20, 21, 22, 23, 24, 25}  {19, 20, 21, 22, 23, 24, 25}   \n",
       "7   #7_wt_old      {48, 49, 50, 51, 52, 53}      {51, 52, 53, 54, 55, 56}   \n",
       "8   #8_tg_old              {26, 27, 28, 29}              {32, 26, 27, 31}   \n",
       "9   #9_wt_old  {54, 55, 56, 57, 58, 59, 60}  {57, 58, 59, 60, 61, 62, 63}   \n",
       "\n",
       "  group_id                                      analyzed_area  \\\n",
       "0     {tg}  {1118784.0, 6422816.0, 4181696.0, 5697120.0, 5...   \n",
       "1     {tg}  {3145632.0, 5585408.0, 4864864.0, 6271584.0, 5...   \n",
       "2     {tg}  {4786560.0, 5889504.0, 5781600.0, 3744096.0, 5...   \n",
       "3     {wt}  {5821568.0, 5198432.0, 5624544.0, 4039840.0, 5...   \n",
       "4     {wt}  {4846016.0, 7168000.0, 6939936.0, 6441280.0, 4...   \n",
       "5     {wt}  {6894496.0, 6043904.0, 7025952.0, 2560096.0, 7...   \n",
       "6     {tg}  {4422592.0, 4941856.0, 4094560.0, 6312800.0, 3...   \n",
       "7     {wt}  {5079872.0, 8607776.0, 5892928.0, 8767360.0, 7...   \n",
       "8     {tg}        {7858784.0, 5415904.0, 419540.0, 2713216.0}   \n",
       "9     {wt}  {5140832.0, 7410528.0, 7109728.0, 4477600.0, 5...   \n",
       "\n",
       "                       total_planes  \\\n",
       "0                        {8.0, 9.0}   \n",
       "1  {6.0, 7.0, 8.0, 9.0, 10.0, 11.0}   \n",
       "2                        {8.0, 9.0}   \n",
       "3                        {8.0, 9.0}   \n",
       "4             {8.0, 9.0, 10.0, 7.0}   \n",
       "5                       {9.0, 10.0}   \n",
       "6                   {8.0, 6.0, 7.0}   \n",
       "7                        {8.0, 9.0}   \n",
       "8                             {8.0}   \n",
       "9                  {8.0, 9.0, 10.0}   \n",
       "\n",
       "                            connected_components  \\\n",
       "0            {0.0, 32.0, 64.0, 69.0, 73.0, 16.0}   \n",
       "1          {69.0, 147.0, 53.0, 85.0, 87.0, 89.0}   \n",
       "2     {35.0, 38.0, 49.0, 19.0, 53.0, 24.0, 25.0}   \n",
       "3           {70.0, 72.0, 74.0, 83.0, 51.0, 58.0}   \n",
       "4           {41.0, 13.0, 14.0, 19.0, 53.0, 26.0}   \n",
       "5         {65.0, 99.0, 132.0, 102.0, 84.0, 59.0}   \n",
       "6     {65.0, 70.0, 41.0, 74.0, 75.0, 52.0, 84.0}   \n",
       "7                 {70.0, 12.0, 49.0, 50.0, 86.0}   \n",
       "8                        {64.0, 0.0, 19.0, 80.0}   \n",
       "9  {96.0, 71.0, 46.0, 86.0, 184.0, 123.0, 152.0}   \n",
       "\n",
       "                              cc_normalized_per_area  \\\n",
       "0  {0.0, 66.45471610969527, 39.557767625361855, 2...   \n",
       "1  {128.68719163583685, 258.8572590324544, 292.57...   \n",
       "2  {69.66550839499172, 43.030479859760696, 80.957...   \n",
       "3  {169.5481495973026, 237.72214525471782, 177.79...   \n",
       "4  {36.517366047176814, 38.06699051250394, 48.381...   \n",
       "5  {192.5740105289468, 307.39519167913653, 218.48...   \n",
       "6  {293.95110707257726, 175.4383683466581, 177.48...   \n",
       "7  {130.8371034575029, 131.28603864945092, 108.46...   \n",
       "8  {0.0, 197.02454747388825, 108.62403494098032, ...   \n",
       "9  {199.4355745505291, 331.1844823948643, 271.519...   \n",
       "\n",
       "                            cc_normalized_per_volume  \n",
       "0  {0.0, 4.944720953170234, 8.306839513711909, 18...  \n",
       "1  {39.07971731852778, 21.447865272639472, 25.885...  \n",
       "2  {5.378809982470087, 8.708188549373968, 8.99532...  \n",
       "3  {15.11799439120728, 18.83868328858918, 19.7548...  \n",
       "4  {3.3649800709026088, 4.564670755897102, 5.4381...  \n",
       "5  {13.97235568204844, 17.718742938878954, 19.004...  \n",
       "6  {36.74388838407216, 19.603688362936087, 22.592...  \n",
       "7  {3.3951692862678615, 10.721738183178516, 13.55...  \n",
       "8  {0.0, 24.62806843423603, 11.675636184880785, 1...  \n",
       "9  {36.79827582165159, 14.91886357082283, 22.1595...  "
      ]
     },
     "execution_count": 247,
     "metadata": {},
     "output_type": "execute_result"
    }
   ],
   "source": [
    "#attempt to aggregate the data (very unsucessfully)\n",
    "df_agg=df.groupby('subject_id', as_index=False).agg(lambda x: set(x))\n",
    "\n",
    "#df_agg = df.groupby('subject_id').mean('cc_normalized_per_volume')\n",
    "df_agg.tail(10)"
   ]
  },
  {
   "cell_type": "markdown",
   "id": "28149352-8af1-49f6-899b-0195dff703fe",
   "metadata": {},
   "source": [
    "### Chunk below not used currently in functions"
   ]
  },
  {
   "cell_type": "code",
   "execution_count": 105,
   "id": "87cb8078-6d3c-4200-bfac-cf21d4a4d6ad",
   "metadata": {},
   "outputs": [
    {
     "name": "stdout",
     "output_type": "stream",
     "text": [
      "Normality can be assumed. The p-value for the shapiro test was 0.43962615728378296\n"
     ]
    }
   ],
   "source": [
    "stat, p = shapiro(df['cc_normalized_per_volume'])\n",
    "if p >= 0.05:\n",
    "    print(\"Normality can be assumed. The p-value for the shapiro test was {}\".format(p))\n",
    "    model = smf.mixedlm(\"cc_normalized_per_volume ~ group_id\", df, groups = \"subject_id\").fit()\n",
    "else:\n",
    "    print(\"WARNING: Normality is violated. Run non-parametric model. The p-value for the shapiro test was {}\".format(p))\n",
    "    #insert model here"
   ]
  },
  {
   "cell_type": "code",
   "execution_count": 108,
   "id": "88f82b4a-8bf3-444c-8304-db5dec20745c",
   "metadata": {},
   "outputs": [
    {
     "data": {
      "text/plain": [
       "ShapiroResult(statistic=0.9805209636688232, pvalue=0.43962615728378296)"
      ]
     },
     "execution_count": 108,
     "metadata": {},
     "output_type": "execute_result"
    }
   ],
   "source": [
    "shapiro(df['cc_normalized_per_volume'])"
   ]
  },
  {
   "cell_type": "code",
   "execution_count": 11,
   "id": "0488ea88-0171-42a2-b9b6-ef258ccdef7d",
   "metadata": {},
   "outputs": [
    {
     "data": {
      "text/html": [
       "<table class=\"simpletable\">\n",
       "<tr>\n",
       "       <td>Model:</td>       <td>MixedLM</td> <td>Dependent Variable:</td> <td>cc_normalized_per_volume</td>\n",
       "</tr>\n",
       "<tr>\n",
       "  <td>No. Observations:</td>   <td>61</td>          <td>Method:</td>                 <td>REML</td>          \n",
       "</tr>\n",
       "<tr>\n",
       "     <td>No. Groups:</td>      <td>10</td>          <td>Scale:</td>                 <td>45.9057</td>        \n",
       "</tr>\n",
       "<tr>\n",
       "  <td>Min. group size:</td>     <td>4</td>      <td>Log-Likelihood:</td>           <td>-208.4239</td>       \n",
       "</tr>\n",
       "<tr>\n",
       "  <td>Max. group size:</td>     <td>7</td>        <td>Converged:</td>                 <td>Yes</td>          \n",
       "</tr>\n",
       "<tr>\n",
       "  <td>Mean group size:</td>    <td>6.1</td>            <td></td>                       <td></td>            \n",
       "</tr>\n",
       "</table>\n",
       "<table class=\"simpletable\">\n",
       "<tr>\n",
       "         <td></td>         <th>Coef.</th> <th>Std.Err.</th>    <th>z</th>   <th>P>|z|</th> <th>[0.025</th> <th>0.975]</th>\n",
       "</tr>\n",
       "<tr>\n",
       "  <th>Intercept</th>      <td>18.494</td>   <td>3.538</td>   <td>5.227</td> <td>0.000</td> <td>11.559</td> <td>25.429</td>\n",
       "</tr>\n",
       "<tr>\n",
       "  <th>group_id[T.wt]</th> <td>-0.083</td>   <td>4.994</td>  <td>-0.017</td> <td>0.987</td> <td>-9.871</td>  <td>9.705</td>\n",
       "</tr>\n",
       "<tr>\n",
       "  <th>subject_id Var</th> <td>54.667</td>   <td>4.923</td>     <td></td>      <td></td>       <td></td>       <td></td>   \n",
       "</tr>\n",
       "</table>"
      ],
      "text/plain": [
       "<class 'statsmodels.iolib.summary2.Summary'>\n",
       "\"\"\"\n",
       "                Mixed Linear Model Regression Results\n",
       "======================================================================\n",
       "Model:            MixedLM Dependent Variable: cc_normalized_per_volume\n",
       "No. Observations: 61      Method:             REML                    \n",
       "No. Groups:       10      Scale:              45.9057                 \n",
       "Min. group size:  4       Log-Likelihood:     -208.4239               \n",
       "Max. group size:  7       Converged:          Yes                     \n",
       "Mean group size:  6.1                                                 \n",
       "------------------------------------------------------------------------\n",
       "                    Coef.    Std.Err.     z      P>|z|   [0.025   0.975]\n",
       "------------------------------------------------------------------------\n",
       "Intercept           18.494      3.538    5.227   0.000   11.559   25.429\n",
       "group_id[T.wt]      -0.083      4.994   -0.017   0.987   -9.871    9.705\n",
       "subject_id Var      54.667      4.923                                   \n",
       "======================================================================\n",
       "\n",
       "\"\"\""
      ]
     },
     "execution_count": 11,
     "metadata": {},
     "output_type": "execute_result"
    }
   ],
   "source": [
    "#Check it's running before putting it into the model\n",
    "model = smf.mixedlm(\"cc_normalized_per_volume ~ group_id\", df, groups = \"subject_id\").fit()\n",
    "model.summary()"
   ]
  },
  {
   "cell_type": "code",
   "execution_count": 6,
   "id": "c61c77b9-57ec-4d32-b22e-76d62a0a4171",
   "metadata": {},
   "outputs": [],
   "source": [
    "import statsmodels.api as sm"
   ]
  },
  {
   "cell_type": "code",
   "execution_count": 7,
   "id": "a3329195-aa4b-440c-8051-04b639b8a35b",
   "metadata": {},
   "outputs": [
    {
     "data": {
      "text/plain": [
       "statsmodels.genmod.generalized_linear_model.GLM"
      ]
     },
     "execution_count": 7,
     "metadata": {},
     "output_type": "execute_result"
    }
   ],
   "source": [
    "sm.GLM"
   ]
  },
  {
   "cell_type": "code",
   "execution_count": 13,
   "id": "89553f88-9493-4a0d-b599-31e056099d83",
   "metadata": {},
   "outputs": [
    {
     "data": {
      "text/plain": [
       "Unnamed: 0                    int64\n",
       "file_id                       int64\n",
       "group_id                     object\n",
       "subject_id                   object\n",
       "analyzed_area               float64\n",
       "total_planes                float64\n",
       "connected_components        float64\n",
       "cc_normalized_per_area      float64\n",
       "cc_normalized_per_volume    float64\n",
       "dtype: object"
      ]
     },
     "execution_count": 13,
     "metadata": {},
     "output_type": "execute_result"
    }
   ],
   "source": [
    "df.dtypes"
   ]
  },
  {
   "cell_type": "code",
   "execution_count": 14,
   "id": "1a4793cb-3f37-4bfe-82f4-8668d8ecec39",
   "metadata": {},
   "outputs": [],
   "source": [
    "data = sm.datasets.scotland.load()\n",
    "data.exog = sm.add_constant(data.exog)"
   ]
  },
  {
   "cell_type": "code",
   "execution_count": 87,
   "id": "9fdccd18-3b21-494c-9828-e3b706575136",
   "metadata": {},
   "outputs": [
    {
     "data": {
      "text/plain": [
       "Unnamed: 0                     int64\n",
       "file_id                        int64\n",
       "group_id                    category\n",
       "subject_id                    object\n",
       "analyzed_area                float64\n",
       "total_planes                 float64\n",
       "connected_components         float64\n",
       "cc_normalized_per_area       float64\n",
       "cc_normalized_per_volume     float64\n",
       "dtype: object"
      ]
     },
     "execution_count": 87,
     "metadata": {},
     "output_type": "execute_result"
    }
   ],
   "source": [
    "df.dtypes"
   ]
  },
  {
   "cell_type": "markdown",
   "id": "f9b27ae9-fb96-4b47-a13c-ac6c2548b586",
   "metadata": {},
   "source": [
    "### Non-parametric model for repeated measures?"
   ]
  },
  {
   "cell_type": "code",
   "execution_count": 29,
   "id": "a4683a34-8e2e-4af4-975b-c66228ed32d8",
   "metadata": {},
   "outputs": [
    {
     "data": {
      "text/html": [
       "<div>\n",
       "<style scoped>\n",
       "    .dataframe tbody tr th:only-of-type {\n",
       "        vertical-align: middle;\n",
       "    }\n",
       "\n",
       "    .dataframe tbody tr th {\n",
       "        vertical-align: top;\n",
       "    }\n",
       "\n",
       "    .dataframe thead th {\n",
       "        text-align: right;\n",
       "    }\n",
       "</style>\n",
       "<table border=\"1\" class=\"dataframe\">\n",
       "  <thead>\n",
       "    <tr style=\"text-align: right;\">\n",
       "      <th></th>\n",
       "      <th>group_id</th>\n",
       "      <th>subject_id</th>\n",
       "      <th>cc_normalized_per_volume</th>\n",
       "    </tr>\n",
       "  </thead>\n",
       "  <tbody>\n",
       "    <tr>\n",
       "      <th>0</th>\n",
       "      <td>tg</td>\n",
       "      <td>#10_tg_old</td>\n",
       "      <td>0.000000</td>\n",
       "    </tr>\n",
       "    <tr>\n",
       "      <th>1</th>\n",
       "      <td>tg</td>\n",
       "      <td>#10_tg_old</td>\n",
       "      <td>18.729920</td>\n",
       "    </tr>\n",
       "    <tr>\n",
       "      <th>2</th>\n",
       "      <td>tg</td>\n",
       "      <td>#10_tg_old</td>\n",
       "      <td>8.306840</td>\n",
       "    </tr>\n",
       "    <tr>\n",
       "      <th>3</th>\n",
       "      <td>tg</td>\n",
       "      <td>#10_tg_old</td>\n",
       "      <td>4.944721</td>\n",
       "    </tr>\n",
       "    <tr>\n",
       "      <th>4</th>\n",
       "      <td>tg</td>\n",
       "      <td>#10_tg_old</td>\n",
       "      <td>24.454311</td>\n",
       "    </tr>\n",
       "    <tr>\n",
       "      <th>5</th>\n",
       "      <td>tg</td>\n",
       "      <td>#10_tg_old</td>\n",
       "      <td>26.251630</td>\n",
       "    </tr>\n",
       "    <tr>\n",
       "      <th>6</th>\n",
       "      <td>tg</td>\n",
       "      <td>#11_tg_old</td>\n",
       "      <td>26.598050</td>\n",
       "    </tr>\n",
       "    <tr>\n",
       "      <th>7</th>\n",
       "      <td>tg</td>\n",
       "      <td>#11_tg_old</td>\n",
       "      <td>39.079717</td>\n",
       "    </tr>\n",
       "    <tr>\n",
       "      <th>8</th>\n",
       "      <td>tg</td>\n",
       "      <td>#11_tg_old</td>\n",
       "      <td>21.447865</td>\n",
       "    </tr>\n",
       "    <tr>\n",
       "      <th>9</th>\n",
       "      <td>tg</td>\n",
       "      <td>#11_tg_old</td>\n",
       "      <td>28.997950</td>\n",
       "    </tr>\n",
       "    <tr>\n",
       "      <th>10</th>\n",
       "      <td>tg</td>\n",
       "      <td>#11_tg_old</td>\n",
       "      <td>27.113033</td>\n",
       "    </tr>\n",
       "    <tr>\n",
       "      <th>11</th>\n",
       "      <td>tg</td>\n",
       "      <td>#11_tg_old</td>\n",
       "      <td>25.885726</td>\n",
       "    </tr>\n",
       "    <tr>\n",
       "      <th>12</th>\n",
       "      <td>tg</td>\n",
       "      <td>#12_tg_old</td>\n",
       "      <td>8.708189</td>\n",
       "    </tr>\n",
       "    <tr>\n",
       "      <th>13</th>\n",
       "      <td>tg</td>\n",
       "      <td>#12_tg_old</td>\n",
       "      <td>10.958393</td>\n",
       "    </tr>\n",
       "    <tr>\n",
       "      <th>14</th>\n",
       "      <td>tg</td>\n",
       "      <td>#12_tg_old</td>\n",
       "      <td>8.995328</td>\n",
       "    </tr>\n",
       "    <tr>\n",
       "      <th>15</th>\n",
       "      <td>tg</td>\n",
       "      <td>#12_tg_old</td>\n",
       "      <td>5.378810</td>\n",
       "    </tr>\n",
       "    <tr>\n",
       "      <th>16</th>\n",
       "      <td>tg</td>\n",
       "      <td>#12_tg_old</td>\n",
       "      <td>9.499988</td>\n",
       "    </tr>\n",
       "    <tr>\n",
       "      <th>17</th>\n",
       "      <td>tg</td>\n",
       "      <td>#12_tg_old</td>\n",
       "      <td>11.610179</td>\n",
       "    </tr>\n",
       "    <tr>\n",
       "      <th>18</th>\n",
       "      <td>tg</td>\n",
       "      <td>#12_tg_old</td>\n",
       "      <td>17.501889</td>\n",
       "    </tr>\n",
       "    <tr>\n",
       "      <th>19</th>\n",
       "      <td>tg</td>\n",
       "      <td>#5_tg_old</td>\n",
       "      <td>19.603688</td>\n",
       "    </tr>\n",
       "  </tbody>\n",
       "</table>\n",
       "</div>"
      ],
      "text/plain": [
       "   group_id  subject_id  cc_normalized_per_volume\n",
       "0        tg  #10_tg_old                  0.000000\n",
       "1        tg  #10_tg_old                 18.729920\n",
       "2        tg  #10_tg_old                  8.306840\n",
       "3        tg  #10_tg_old                  4.944721\n",
       "4        tg  #10_tg_old                 24.454311\n",
       "5        tg  #10_tg_old                 26.251630\n",
       "6        tg  #11_tg_old                 26.598050\n",
       "7        tg  #11_tg_old                 39.079717\n",
       "8        tg  #11_tg_old                 21.447865\n",
       "9        tg  #11_tg_old                 28.997950\n",
       "10       tg  #11_tg_old                 27.113033\n",
       "11       tg  #11_tg_old                 25.885726\n",
       "12       tg  #12_tg_old                  8.708189\n",
       "13       tg  #12_tg_old                 10.958393\n",
       "14       tg  #12_tg_old                  8.995328\n",
       "15       tg  #12_tg_old                  5.378810\n",
       "16       tg  #12_tg_old                  9.499988\n",
       "17       tg  #12_tg_old                 11.610179\n",
       "18       tg  #12_tg_old                 17.501889\n",
       "19       tg   #5_tg_old                 19.603688"
      ]
     },
     "execution_count": 29,
     "metadata": {},
     "output_type": "execute_result"
    }
   ],
   "source": [
    "#subset for Friedman model\n",
    "df_friedman = df[[\"group_id\", \"subject_id\", \"cc_normalized_per_volume\"]]\n",
    "df_friedman.head(20)"
   ]
  },
  {
   "cell_type": "code",
   "execution_count": null,
   "id": "ab013cf7-f568-4f8b-b7d7-f68088afd020",
   "metadata": {},
   "outputs": [],
   "source": [
    "#Problem: I can't figure out if this works when we're only dealing with 2 levels or what the data format should be\n",
    "pg.friedman(df_friedman)"
   ]
  },
  {
   "cell_type": "code",
   "execution_count": 44,
   "id": "44a5c0ef-0552-4114-982f-6632e7cef34a",
   "metadata": {},
   "outputs": [
    {
     "data": {
      "text/html": [
       "<div>\n",
       "<style scoped>\n",
       "    .dataframe tbody tr th:only-of-type {\n",
       "        vertical-align: middle;\n",
       "    }\n",
       "\n",
       "    .dataframe tbody tr th {\n",
       "        vertical-align: top;\n",
       "    }\n",
       "\n",
       "    .dataframe thead th {\n",
       "        text-align: right;\n",
       "    }\n",
       "</style>\n",
       "<table border=\"1\" class=\"dataframe\">\n",
       "  <thead>\n",
       "    <tr style=\"text-align: right;\">\n",
       "      <th></th>\n",
       "      <th>Source</th>\n",
       "      <th>ddof1</th>\n",
       "      <th>H</th>\n",
       "      <th>p-unc</th>\n",
       "    </tr>\n",
       "  </thead>\n",
       "  <tbody>\n",
       "    <tr>\n",
       "      <th>Kruskal</th>\n",
       "      <td>subject_id</td>\n",
       "      <td>9</td>\n",
       "      <td>35.850338</td>\n",
       "      <td>0.000042</td>\n",
       "    </tr>\n",
       "  </tbody>\n",
       "</table>\n",
       "</div>"
      ],
      "text/plain": [
       "             Source  ddof1          H     p-unc\n",
       "Kruskal  subject_id      9  35.850338  0.000042"
      ]
     },
     "execution_count": 44,
     "metadata": {},
     "output_type": "execute_result"
    }
   ],
   "source": [
    "pg.kruskal(data=df, dv='cc_normalized_per_volume', between='subject_id')"
   ]
  },
  {
   "cell_type": "markdown",
   "id": "f8160738-6c7b-4576-b26d-687d350f31f0",
   "metadata": {},
   "source": [
    "### Plotting Normality - used on existing model"
   ]
  },
  {
   "cell_type": "code",
   "execution_count": 50,
   "id": "9f07ccab-2656-4f49-b4f7-c85108e8acdd",
   "metadata": {},
   "outputs": [
    {
     "data": {
      "image/png": "[encoded data removed]",
      "text/plain": [
       "<Figure size 576x360 with 1 Axes>"
      ]
     },
     "metadata": {},
     "output_type": "display_data"
    }
   ],
   "source": [
    "#2 types of normality plots\n",
    "#kde_kws = {\"shade\" : True, \"lw\": 1}\n",
    "fig = plt.figure(figsize=(8,5), facecolor='white')\n",
    "ax = fig.add_subplot()\n",
    "sns.kdeplot(model.resid, fill=True, ax=ax)\n",
    "\n",
    "xmin, xmax = plt.xlim()\n",
    "x = np.linspace(xmin, xmax, 100)\n",
    "mu, std = norm.fit(model.resid)\n",
    "p = norm.pdf(x, mu, std)\n",
    "plt.plot(x, p, 'k', linewidth=2)\n",
    "\n",
    "#sns.kdeplot(normal_dist, color = 'k', ax=ax)\n",
    "\n",
    "plt.title(\"KDE Plot of Model Residuals (Blue) and Normal Distribution (Black)\")\n",
    "plt.xlabel(\"Residuals\")\n",
    "plt.show()"
   ]
  },
  {
   "cell_type": "code",
   "execution_count": 13,
   "id": "2ad4cbbf-7a62-469b-a869-40dda8882373",
   "metadata": {},
   "outputs": [
    {
     "data": {
      "image/png": "[encoded data removed]",
      "text/plain": [
       "<Figure size 432x288 with 1 Axes>"
      ]
     },
     "metadata": {
      "needs_background": "light"
     },
     "output_type": "display_data"
    }
   ],
   "source": [
    "#h = sns.displot(df, x=\"cc_normalized_per_volume\", kind=\"kde\")\n",
    "#df_normal = np.random.normal(statistics.mean(df['cc_normalized_per_volume']),statistics.stdev(df['cc_normalized_per_volume']),61)\n",
    "df_hist = df['cc_normalized_per_volume']\n",
    "mu, std = norm.fit(df_hist)\n",
    "plt.hist(df_hist, bins=25, density=True, alpha=0.6, color='b')\n",
    "\n",
    "# Plot the PDF.\n",
    "xmin, xmax = plt.xlim()\n",
    "x = np.linspace(xmin, xmax, 100)\n",
    "p = norm.pdf(x, mu, std)\n",
    "\n",
    "plt.plot(x, p, 'k', linewidth=2)\n",
    "title = \"Distribution of the dependent variable overlaid with a normal distribution\".format(mu, std)\n",
    "plt.title(title)\n",
    "  \n",
    "plt.show()\n",
    "\n",
    "#Problem: the histogram doesn't seem to represent our data - figure out why when you have time\n",
    "#def map_pdf(x, **kwargs):\n",
    "#    mu, std = scipy.stats.norm.fit(x)\n",
    "#    x0, x1 = p1.axes[0][0].get_xlim()  # axes for p1 is required to determine x_pdf\n",
    "#    x_pdf = np.linspace(x0, x1, 100)\n",
    "#    y_pdf = scipy.stats.norm.pdf(x_pdf, mu, std)\n",
    "#    plt.plot(x_pdf, y_pdf, c='r')\n",
    "\n",
    "\n",
    "#p1 = sns.displot(data=df_hist, x=df_hist['cc_normalized_per_volume'], kind='hist', bins=40, stat='density')\n",
    "#p1.map(map_pdf, 'cc_normalized_per_volume')"
   ]
  },
  {
   "cell_type": "code",
   "execution_count": 51,
   "id": "5f745b08-098f-4471-aa03-f707ea16d392",
   "metadata": {},
   "outputs": [
    {
     "data": {
      "image/png": "[encoded data removed]",
      "text/plain": [
       "<Figure size 576x360 with 1 Axes>"
      ]
     },
     "metadata": {},
     "output_type": "display_data"
    }
   ],
   "source": [
    "fig = plt.figure(figsize=(8,5), facecolor='white')\n",
    "ax = fig.add_subplot()\n",
    "ax = scipy.stats.probplot(df['cc_normalized_per_volume'], dist=\"norm\", plot=plt)\n",
    "plt.show()"
   ]
  },
  {
   "cell_type": "markdown",
   "id": "1dd46e63-14fa-4b0e-ab26-6d0cf3f204d6",
   "metadata": {},
   "source": [
    "## Checking homoscedasticity\n",
    "#### Preparing data"
   ]
  },
  {
   "cell_type": "code",
   "execution_count": 17,
   "id": "496d7087-76a4-484a-b24b-03a13cfacaa1",
   "metadata": {},
   "outputs": [
    {
     "data": {
      "text/html": [
       "<div>\n",
       "<style scoped>\n",
       "    .dataframe tbody tr th:only-of-type {\n",
       "        vertical-align: middle;\n",
       "    }\n",
       "\n",
       "    .dataframe tbody tr th {\n",
       "        vertical-align: top;\n",
       "    }\n",
       "\n",
       "    .dataframe thead th {\n",
       "        text-align: right;\n",
       "    }\n",
       "</style>\n",
       "<table border=\"1\" class=\"dataframe\">\n",
       "  <thead>\n",
       "    <tr style=\"text-align: right;\">\n",
       "      <th></th>\n",
       "      <th>Unnamed: 0</th>\n",
       "      <th>file_id</th>\n",
       "      <th>group_id</th>\n",
       "      <th>subject_id</th>\n",
       "      <th>analyzed_area</th>\n",
       "      <th>total_planes</th>\n",
       "      <th>connected_components</th>\n",
       "      <th>cc_normalized_per_area</th>\n",
       "      <th>wt</th>\n",
       "    </tr>\n",
       "  </thead>\n",
       "  <tbody>\n",
       "    <tr>\n",
       "      <th>30</th>\n",
       "      <td>30</td>\n",
       "      <td>33</td>\n",
       "      <td>wt</td>\n",
       "      <td>#15_wt_old</td>\n",
       "      <td>5821568.0</td>\n",
       "      <td>9.0</td>\n",
       "      <td>74.0</td>\n",
       "      <td>169.548150</td>\n",
       "      <td>18.838683</td>\n",
       "    </tr>\n",
       "    <tr>\n",
       "      <th>31</th>\n",
       "      <td>31</td>\n",
       "      <td>34</td>\n",
       "      <td>wt</td>\n",
       "      <td>#15_wt_old</td>\n",
       "      <td>4212252.0</td>\n",
       "      <td>8.0</td>\n",
       "      <td>58.0</td>\n",
       "      <td>183.660160</td>\n",
       "      <td>22.957520</td>\n",
       "    </tr>\n",
       "    <tr>\n",
       "      <th>32</th>\n",
       "      <td>32</td>\n",
       "      <td>35</td>\n",
       "      <td>wt</td>\n",
       "      <td>#15_wt_old</td>\n",
       "      <td>4039840.0</td>\n",
       "      <td>8.0</td>\n",
       "      <td>72.0</td>\n",
       "      <td>237.722145</td>\n",
       "      <td>29.715268</td>\n",
       "    </tr>\n",
       "    <tr>\n",
       "      <th>33</th>\n",
       "      <td>33</td>\n",
       "      <td>36</td>\n",
       "      <td>wt</td>\n",
       "      <td>#15_wt_old</td>\n",
       "      <td>5624544.0</td>\n",
       "      <td>8.0</td>\n",
       "      <td>51.0</td>\n",
       "      <td>120.943955</td>\n",
       "      <td>15.117994</td>\n",
       "    </tr>\n",
       "    <tr>\n",
       "      <th>34</th>\n",
       "      <td>34</td>\n",
       "      <td>37</td>\n",
       "      <td>wt</td>\n",
       "      <td>#15_wt_old</td>\n",
       "      <td>5198432.0</td>\n",
       "      <td>9.0</td>\n",
       "      <td>83.0</td>\n",
       "      <td>212.964411</td>\n",
       "      <td>23.662712</td>\n",
       "    </tr>\n",
       "    <tr>\n",
       "      <th>35</th>\n",
       "      <td>35</td>\n",
       "      <td>38</td>\n",
       "      <td>wt</td>\n",
       "      <td>#15_wt_old</td>\n",
       "      <td>5251488.0</td>\n",
       "      <td>9.0</td>\n",
       "      <td>70.0</td>\n",
       "      <td>177.793947</td>\n",
       "      <td>19.754883</td>\n",
       "    </tr>\n",
       "    <tr>\n",
       "      <th>36</th>\n",
       "      <td>36</td>\n",
       "      <td>39</td>\n",
       "      <td>wt</td>\n",
       "      <td>#20_wt_old</td>\n",
       "      <td>4846016.0</td>\n",
       "      <td>9.0</td>\n",
       "      <td>53.0</td>\n",
       "      <td>145.878851</td>\n",
       "      <td>16.208761</td>\n",
       "    </tr>\n",
       "    <tr>\n",
       "      <th>37</th>\n",
       "      <td>37</td>\n",
       "      <td>40</td>\n",
       "      <td>wt</td>\n",
       "      <td>#20_wt_old</td>\n",
       "      <td>6939936.0</td>\n",
       "      <td>8.0</td>\n",
       "      <td>19.0</td>\n",
       "      <td>36.517366</td>\n",
       "      <td>4.564671</td>\n",
       "    </tr>\n",
       "    <tr>\n",
       "      <th>38</th>\n",
       "      <td>38</td>\n",
       "      <td>41</td>\n",
       "      <td>wt</td>\n",
       "      <td>#20_wt_old</td>\n",
       "      <td>7168000.0</td>\n",
       "      <td>8.0</td>\n",
       "      <td>26.0</td>\n",
       "      <td>48.381203</td>\n",
       "      <td>6.047650</td>\n",
       "    </tr>\n",
       "    <tr>\n",
       "      <th>39</th>\n",
       "      <td>39</td>\n",
       "      <td>42</td>\n",
       "      <td>wt</td>\n",
       "      <td>#20_wt_old</td>\n",
       "      <td>4905472.0</td>\n",
       "      <td>7.0</td>\n",
       "      <td>14.0</td>\n",
       "      <td>38.066991</td>\n",
       "      <td>5.438142</td>\n",
       "    </tr>\n",
       "    <tr>\n",
       "      <th>40</th>\n",
       "      <td>40</td>\n",
       "      <td>43</td>\n",
       "      <td>wt</td>\n",
       "      <td>#20_wt_old</td>\n",
       "      <td>6441280.0</td>\n",
       "      <td>8.0</td>\n",
       "      <td>13.0</td>\n",
       "      <td>26.919841</td>\n",
       "      <td>3.364980</td>\n",
       "    </tr>\n",
       "    <tr>\n",
       "      <th>41</th>\n",
       "      <td>41</td>\n",
       "      <td>44</td>\n",
       "      <td>wt</td>\n",
       "      <td>#20_wt_old</td>\n",
       "      <td>3100448.0</td>\n",
       "      <td>10.0</td>\n",
       "      <td>41.0</td>\n",
       "      <td>176.384620</td>\n",
       "      <td>17.638462</td>\n",
       "    </tr>\n",
       "    <tr>\n",
       "      <th>42</th>\n",
       "      <td>42</td>\n",
       "      <td>45</td>\n",
       "      <td>wt</td>\n",
       "      <td>#21_wt_old</td>\n",
       "      <td>6894496.0</td>\n",
       "      <td>9.0</td>\n",
       "      <td>65.0</td>\n",
       "      <td>125.751201</td>\n",
       "      <td>13.972356</td>\n",
       "    </tr>\n",
       "    <tr>\n",
       "      <th>43</th>\n",
       "      <td>43</td>\n",
       "      <td>46</td>\n",
       "      <td>wt</td>\n",
       "      <td>#21_wt_old</td>\n",
       "      <td>7025952.0</td>\n",
       "      <td>9.0</td>\n",
       "      <td>84.0</td>\n",
       "      <td>159.468686</td>\n",
       "      <td>17.718743</td>\n",
       "    </tr>\n",
       "    <tr>\n",
       "      <th>44</th>\n",
       "      <td>44</td>\n",
       "      <td>47</td>\n",
       "      <td>wt</td>\n",
       "      <td>#21_wt_old</td>\n",
       "      <td>7064864.0</td>\n",
       "      <td>9.0</td>\n",
       "      <td>102.0</td>\n",
       "      <td>192.574011</td>\n",
       "      <td>21.397112</td>\n",
       "    </tr>\n",
       "    <tr>\n",
       "      <th>45</th>\n",
       "      <td>45</td>\n",
       "      <td>48</td>\n",
       "      <td>wt</td>\n",
       "      <td>#21_wt_old</td>\n",
       "      <td>6043904.0</td>\n",
       "      <td>10.0</td>\n",
       "      <td>99.0</td>\n",
       "      <td>218.483652</td>\n",
       "      <td>21.848365</td>\n",
       "    </tr>\n",
       "    <tr>\n",
       "      <th>46</th>\n",
       "      <td>46</td>\n",
       "      <td>49</td>\n",
       "      <td>wt</td>\n",
       "      <td>#21_wt_old</td>\n",
       "      <td>2560096.0</td>\n",
       "      <td>10.0</td>\n",
       "      <td>59.0</td>\n",
       "      <td>307.395192</td>\n",
       "      <td>30.739519</td>\n",
       "    </tr>\n",
       "    <tr>\n",
       "      <th>47</th>\n",
       "      <td>47</td>\n",
       "      <td>50</td>\n",
       "      <td>wt</td>\n",
       "      <td>#21_wt_old</td>\n",
       "      <td>9264510.0</td>\n",
       "      <td>10.0</td>\n",
       "      <td>132.0</td>\n",
       "      <td>190.043398</td>\n",
       "      <td>19.004340</td>\n",
       "    </tr>\n",
       "    <tr>\n",
       "      <th>48</th>\n",
       "      <td>48</td>\n",
       "      <td>51</td>\n",
       "      <td>wt</td>\n",
       "      <td>#7_wt_old</td>\n",
       "      <td>5079872.0</td>\n",
       "      <td>8.0</td>\n",
       "      <td>50.0</td>\n",
       "      <td>131.286039</td>\n",
       "      <td>16.410755</td>\n",
       "    </tr>\n",
       "    <tr>\n",
       "      <th>49</th>\n",
       "      <td>49</td>\n",
       "      <td>52</td>\n",
       "      <td>wt</td>\n",
       "      <td>#7_wt_old</td>\n",
       "      <td>7619776.0</td>\n",
       "      <td>8.0</td>\n",
       "      <td>49.0</td>\n",
       "      <td>85.773905</td>\n",
       "      <td>10.721738</td>\n",
       "    </tr>\n",
       "    <tr>\n",
       "      <th>50</th>\n",
       "      <td>50</td>\n",
       "      <td>53</td>\n",
       "      <td>wt</td>\n",
       "      <td>#7_wt_old</td>\n",
       "      <td>8607776.0</td>\n",
       "      <td>8.0</td>\n",
       "      <td>70.0</td>\n",
       "      <td>108.469688</td>\n",
       "      <td>13.558711</td>\n",
       "    </tr>\n",
       "    <tr>\n",
       "      <th>51</th>\n",
       "      <td>51</td>\n",
       "      <td>54</td>\n",
       "      <td>wt</td>\n",
       "      <td>#7_wt_old</td>\n",
       "      <td>8767360.0</td>\n",
       "      <td>9.0</td>\n",
       "      <td>86.0</td>\n",
       "      <td>130.837103</td>\n",
       "      <td>14.537456</td>\n",
       "    </tr>\n",
       "    <tr>\n",
       "      <th>52</th>\n",
       "      <td>52</td>\n",
       "      <td>55</td>\n",
       "      <td>wt</td>\n",
       "      <td>#7_wt_old</td>\n",
       "      <td>5892928.0</td>\n",
       "      <td>8.0</td>\n",
       "      <td>12.0</td>\n",
       "      <td>27.161354</td>\n",
       "      <td>3.395169</td>\n",
       "    </tr>\n",
       "    <tr>\n",
       "      <th>53</th>\n",
       "      <td>53</td>\n",
       "      <td>56</td>\n",
       "      <td>wt</td>\n",
       "      <td>#7_wt_old</td>\n",
       "      <td>4314688.0</td>\n",
       "      <td>9.0</td>\n",
       "      <td>70.0</td>\n",
       "      <td>216.396361</td>\n",
       "      <td>24.044040</td>\n",
       "    </tr>\n",
       "    <tr>\n",
       "      <th>54</th>\n",
       "      <td>54</td>\n",
       "      <td>57</td>\n",
       "      <td>wt</td>\n",
       "      <td>#9_wt_old</td>\n",
       "      <td>5140832.0</td>\n",
       "      <td>8.0</td>\n",
       "      <td>46.0</td>\n",
       "      <td>119.350909</td>\n",
       "      <td>14.918864</td>\n",
       "    </tr>\n",
       "    <tr>\n",
       "      <th>55</th>\n",
       "      <td>55</td>\n",
       "      <td>58</td>\n",
       "      <td>wt</td>\n",
       "      <td>#9_wt_old</td>\n",
       "      <td>4477600.0</td>\n",
       "      <td>8.0</td>\n",
       "      <td>71.0</td>\n",
       "      <td>211.501944</td>\n",
       "      <td>26.437743</td>\n",
       "    </tr>\n",
       "    <tr>\n",
       "      <th>56</th>\n",
       "      <td>56</td>\n",
       "      <td>59</td>\n",
       "      <td>wt</td>\n",
       "      <td>#9_wt_old</td>\n",
       "      <td>7410528.0</td>\n",
       "      <td>9.0</td>\n",
       "      <td>184.0</td>\n",
       "      <td>331.184482</td>\n",
       "      <td>36.798276</td>\n",
       "    </tr>\n",
       "    <tr>\n",
       "      <th>57</th>\n",
       "      <td>57</td>\n",
       "      <td>60</td>\n",
       "      <td>wt</td>\n",
       "      <td>#9_wt_old</td>\n",
       "      <td>7109728.0</td>\n",
       "      <td>10.0</td>\n",
       "      <td>152.0</td>\n",
       "      <td>285.162170</td>\n",
       "      <td>28.516217</td>\n",
       "    </tr>\n",
       "    <tr>\n",
       "      <th>58</th>\n",
       "      <td>58</td>\n",
       "      <td>61</td>\n",
       "      <td>wt</td>\n",
       "      <td>#9_wt_old</td>\n",
       "      <td>5770116.0</td>\n",
       "      <td>9.0</td>\n",
       "      <td>123.0</td>\n",
       "      <td>284.329471</td>\n",
       "      <td>31.592163</td>\n",
       "    </tr>\n",
       "    <tr>\n",
       "      <th>59</th>\n",
       "      <td>59</td>\n",
       "      <td>62</td>\n",
       "      <td>wt</td>\n",
       "      <td>#9_wt_old</td>\n",
       "      <td>5751712.0</td>\n",
       "      <td>9.0</td>\n",
       "      <td>86.0</td>\n",
       "      <td>199.435575</td>\n",
       "      <td>22.159508</td>\n",
       "    </tr>\n",
       "    <tr>\n",
       "      <th>60</th>\n",
       "      <td>60</td>\n",
       "      <td>63</td>\n",
       "      <td>wt</td>\n",
       "      <td>#9_wt_old</td>\n",
       "      <td>4715968.0</td>\n",
       "      <td>10.0</td>\n",
       "      <td>96.0</td>\n",
       "      <td>271.519917</td>\n",
       "      <td>27.151992</td>\n",
       "    </tr>\n",
       "  </tbody>\n",
       "</table>\n",
       "</div>"
      ],
      "text/plain": [
       "    Unnamed: 0  file_id group_id  subject_id  analyzed_area  total_planes  \\\n",
       "30          30       33       wt  #15_wt_old      5821568.0           9.0   \n",
       "31          31       34       wt  #15_wt_old      4212252.0           8.0   \n",
       "32          32       35       wt  #15_wt_old      4039840.0           8.0   \n",
       "33          33       36       wt  #15_wt_old      5624544.0           8.0   \n",
       "34          34       37       wt  #15_wt_old      5198432.0           9.0   \n",
       "35          35       38       wt  #15_wt_old      5251488.0           9.0   \n",
       "36          36       39       wt  #20_wt_old      4846016.0           9.0   \n",
       "37          37       40       wt  #20_wt_old      6939936.0           8.0   \n",
       "38          38       41       wt  #20_wt_old      7168000.0           8.0   \n",
       "39          39       42       wt  #20_wt_old      4905472.0           7.0   \n",
       "40          40       43       wt  #20_wt_old      6441280.0           8.0   \n",
       "41          41       44       wt  #20_wt_old      3100448.0          10.0   \n",
       "42          42       45       wt  #21_wt_old      6894496.0           9.0   \n",
       "43          43       46       wt  #21_wt_old      7025952.0           9.0   \n",
       "44          44       47       wt  #21_wt_old      7064864.0           9.0   \n",
       "45          45       48       wt  #21_wt_old      6043904.0          10.0   \n",
       "46          46       49       wt  #21_wt_old      2560096.0          10.0   \n",
       "47          47       50       wt  #21_wt_old      9264510.0          10.0   \n",
       "48          48       51       wt   #7_wt_old      5079872.0           8.0   \n",
       "49          49       52       wt   #7_wt_old      7619776.0           8.0   \n",
       "50          50       53       wt   #7_wt_old      8607776.0           8.0   \n",
       "51          51       54       wt   #7_wt_old      8767360.0           9.0   \n",
       "52          52       55       wt   #7_wt_old      5892928.0           8.0   \n",
       "53          53       56       wt   #7_wt_old      4314688.0           9.0   \n",
       "54          54       57       wt   #9_wt_old      5140832.0           8.0   \n",
       "55          55       58       wt   #9_wt_old      4477600.0           8.0   \n",
       "56          56       59       wt   #9_wt_old      7410528.0           9.0   \n",
       "57          57       60       wt   #9_wt_old      7109728.0          10.0   \n",
       "58          58       61       wt   #9_wt_old      5770116.0           9.0   \n",
       "59          59       62       wt   #9_wt_old      5751712.0           9.0   \n",
       "60          60       63       wt   #9_wt_old      4715968.0          10.0   \n",
       "\n",
       "    connected_components  cc_normalized_per_area         wt  \n",
       "30                  74.0              169.548150  18.838683  \n",
       "31                  58.0              183.660160  22.957520  \n",
       "32                  72.0              237.722145  29.715268  \n",
       "33                  51.0              120.943955  15.117994  \n",
       "34                  83.0              212.964411  23.662712  \n",
       "35                  70.0              177.793947  19.754883  \n",
       "36                  53.0              145.878851  16.208761  \n",
       "37                  19.0               36.517366   4.564671  \n",
       "38                  26.0               48.381203   6.047650  \n",
       "39                  14.0               38.066991   5.438142  \n",
       "40                  13.0               26.919841   3.364980  \n",
       "41                  41.0              176.384620  17.638462  \n",
       "42                  65.0              125.751201  13.972356  \n",
       "43                  84.0              159.468686  17.718743  \n",
       "44                 102.0              192.574011  21.397112  \n",
       "45                  99.0              218.483652  21.848365  \n",
       "46                  59.0              307.395192  30.739519  \n",
       "47                 132.0              190.043398  19.004340  \n",
       "48                  50.0              131.286039  16.410755  \n",
       "49                  49.0               85.773905  10.721738  \n",
       "50                  70.0              108.469688  13.558711  \n",
       "51                  86.0              130.837103  14.537456  \n",
       "52                  12.0               27.161354   3.395169  \n",
       "53                  70.0              216.396361  24.044040  \n",
       "54                  46.0              119.350909  14.918864  \n",
       "55                  71.0              211.501944  26.437743  \n",
       "56                 184.0              331.184482  36.798276  \n",
       "57                 152.0              285.162170  28.516217  \n",
       "58                 123.0              284.329471  31.592163  \n",
       "59                  86.0              199.435575  22.159508  \n",
       "60                  96.0              271.519917  27.151992  "
      ]
     },
     "execution_count": 17,
     "metadata": {},
     "output_type": "execute_result"
    }
   ],
   "source": [
    "#Make dataframes compatible for Levene's and Bartlett's test\n",
    "df_tg = df.loc[df['group_id'] == 'tg']\n",
    "df_tg = df_tg.rename(columns={\"cc_normalized_per_volume\": \"tg\"})\n",
    "\n",
    "df_wt = df.loc[df['group_id'] == 'wt']\n",
    "df_wt = df_wt.rename(columns={\"cc_normalized_per_volume\": \"wt\"})"
   ]
  },
  {
   "cell_type": "markdown",
   "id": "6136e751-ff5e-405e-aca1-75380dd196ee",
   "metadata": {},
   "source": [
    "### Homoscedasticity loop based on normality - non-model related"
   ]
  },
  {
   "cell_type": "code",
   "execution_count": 53,
   "id": "d5939118-53ac-43e5-94f0-9cf232ec5caf",
   "metadata": {},
   "outputs": [
    {
     "name": "stdout",
     "output_type": "stream",
     "text": [
      "Normality can be assumed, running Bartlett's test\n",
      "Homoscedasticity is not violated. P-value for Bartlett's test was 0.14548546852666838\n"
     ]
    }
   ],
   "source": [
    "stat, p_norm = shapiro(df['cc_normalized_per_volume'])\n",
    "if p_norm >= 0.05:\n",
    "    print(\"Normality can be assumed, running Bartlett's test\")\n",
    "    stat, p_homo = levene(df_wt['wt'], df_tg['tg'])\n",
    "    if p_homo >= 0.05:\n",
    "        print (\"Homoscedasticity is not violated. P-value for Bartlett's test was {}\".format(p_homo))\n",
    "    elif p_homo < 0.05:\n",
    "        print(\"Homoscedasticity is violated. P-value for Bartlett's test was {}. Consider running data transformations\".format(p_homo))\n",
    "else:\n",
    "    print(\"WARNING: Normality is violated, running Levene's test\")\n",
    "    stat, p_homo = levene(df_wt['wt'], df_tg['tg'])\n",
    "    if p_homo >= 0.05:\n",
    "        print (\"Homoscedasticity is not violated. P-value for Levene's test was {}\".format(p_homo))\n",
    "    elif p_homo < 0.05:\n",
    "        print(\"Homoscedasticity is violated. P-value for Levene's test was {}\".format(p_homo))"
   ]
  },
  {
   "cell_type": "markdown",
   "id": "6ba6c700-6457-4e62-b2a6-ad03b16f874d",
   "metadata": {},
   "source": [
    "#### Visualizing Homoscedasticity - model related\n",
    "Generally, if the ratio of the largest variance to the smallest variance is 1.5 or below, the data is homoscedastic.\n",
    "Simply put, homoscedasticity means “having the same scatter.” For it to exist in a set of data, the points must be about the same distance from the line.\n",
    "Source: https://www.statisticshowto.com/homoscedasticity/\n",
    "Code source: https://www.pythonfordatascience.org/mixed-effects-regression-python/"
   ]
  },
  {
   "cell_type": "code",
   "execution_count": 55,
   "id": "51d579cc-e4e4-40fa-aaa9-1687cd4747e3",
   "metadata": {},
   "outputs": [
    {
     "data": {
      "image/png": "[encoded data removed]",
      "text/plain": [
       "<Figure size 1152x648 with 1 Axes>"
      ]
     },
     "metadata": {
      "needs_background": "light"
     },
     "output_type": "display_data"
    }
   ],
   "source": [
    "fig = plt.figure(figsize = (16, 9))\n",
    "ax = sns.scatterplot(y = model.resid, x = model.fittedvalues)\n",
    "ax.set_title(\"Plot to determine homoscedasticity\")\n",
    "ax.set_xlabel(\"Fitted Values\")\n",
    "ax.set_ylabel(\"Residuals\")\n",
    "plt.show()"
   ]
  },
  {
   "cell_type": "code",
   "execution_count": 62,
   "id": "6e4f5725-73e7-4a5d-af38-2d81b1961c49",
   "metadata": {},
   "outputs": [
    {
     "data": {
      "image/png": "[encoded data removed]",
      "text/plain": [
       "<Figure size 1152x648 with 1 Axes>"
      ]
     },
     "metadata": {
      "needs_background": "light"
     },
     "output_type": "display_data"
    }
   ],
   "source": [
    "fig = plt.figure(figsize = (16, 9))\n",
    "ax = sns.stripplot(x = model.model.groups, y = model.resid, color='k')\n",
    "ax = sns.violinplot(x = model.model.groups, y = model.resid)\n",
    "ax.set_title(\"Distribution of Residuals for Each Subject\")\n",
    "ax.set_ylabel(\"Residuals\")\n",
    "ax.set_xlabel(\"Subject\")\n",
    "plt.show()"
   ]
  },
  {
   "cell_type": "markdown",
   "id": "7fa37fe4-7f95-4f9d-96ab-2fc4a8ada93e",
   "metadata": {},
   "source": [
    "# Linearity\n",
    "To determine if we have linearity, the points should be symmetrically distributed around a horizontal line, with a roughly constant variance. \n",
    "Source: https://people.duke.edu/~rnau/testing.htm"
   ]
  },
  {
   "cell_type": "code",
   "execution_count": 64,
   "id": "9ca60fe5-0eb7-4c34-a056-e18f92664843",
   "metadata": {},
   "outputs": [
    {
     "data": {
      "image/png": "[encoded data removed]",
      "text/plain": [
       "<Figure size 1152x648 with 1 Axes>"
      ]
     },
     "metadata": {
      "needs_background": "light"
     },
     "output_type": "display_data"
    }
   ],
   "source": [
    "fig = plt.figure(figsize = (16, 9))\n",
    "ax = sns.scatterplot(y = model.resid, x = model.fittedvalues)\n",
    "ax.set_title(\"Plot to determine Linearity\")\n",
    "ax.set_xlabel(\"Fitted Values\")\n",
    "ax.set_ylabel(\"Residuals\")\n",
    "plt.show()"
   ]
  },
  {
   "cell_type": "markdown",
   "id": "5213d166-c471-41e2-a28c-b95c1203e427",
   "metadata": {},
   "source": [
    "### Outlier removal"
   ]
  },
  {
   "cell_type": "code",
   "execution_count": 68,
   "id": "691d2ea1-81fc-44f3-9ffc-3839a7f29b47",
   "metadata": {},
   "outputs": [
    {
     "data": {
      "text/plain": [
       "0      0.000000\n",
       "1     18.729920\n",
       "2      8.306840\n",
       "3      4.944721\n",
       "4     24.454311\n",
       "        ...    \n",
       "56    36.798276\n",
       "57    28.516217\n",
       "58    31.592163\n",
       "59    22.159508\n",
       "60    27.151992\n",
       "Name: cc_normalized_per_volume, Length: 61, dtype: float64"
      ]
     },
     "execution_count": 68,
     "metadata": {},
     "output_type": "execute_result"
    }
   ],
   "source": [
    "df['cc_normalized_per_volume']"
   ]
  },
  {
   "cell_type": "code",
   "execution_count": 78,
   "id": "03dca7ef-d726-47a0-b8d5-1bdb3fb70cd4",
   "metadata": {},
   "outputs": [
    {
     "data": {
      "text/html": [
       "<div>\n",
       "<style scoped>\n",
       "    .dataframe tbody tr th:only-of-type {\n",
       "        vertical-align: middle;\n",
       "    }\n",
       "\n",
       "    .dataframe tbody tr th {\n",
       "        vertical-align: top;\n",
       "    }\n",
       "\n",
       "    .dataframe thead th {\n",
       "        text-align: right;\n",
       "    }\n",
       "</style>\n",
       "<table border=\"1\" class=\"dataframe\">\n",
       "  <thead>\n",
       "    <tr style=\"text-align: right;\">\n",
       "      <th></th>\n",
       "      <th>Unnamed: 0</th>\n",
       "      <th>file_id</th>\n",
       "      <th>group_id</th>\n",
       "      <th>subject_id</th>\n",
       "      <th>analyzed_area</th>\n",
       "      <th>total_planes</th>\n",
       "      <th>connected_components</th>\n",
       "      <th>cc_normalized_per_area</th>\n",
       "      <th>cc_normalized_per_volume</th>\n",
       "    </tr>\n",
       "  </thead>\n",
       "  <tbody>\n",
       "    <tr>\n",
       "      <th>0</th>\n",
       "      <td>0</td>\n",
       "      <td>0</td>\n",
       "      <td>tg</td>\n",
       "      <td>#10_tg_old</td>\n",
       "      <td>1118784.0</td>\n",
       "      <td>8.0</td>\n",
       "      <td>0.0</td>\n",
       "      <td>0.000000</td>\n",
       "      <td>0.000000</td>\n",
       "    </tr>\n",
       "    <tr>\n",
       "      <th>1</th>\n",
       "      <td>1</td>\n",
       "      <td>1</td>\n",
       "      <td>tg</td>\n",
       "      <td>#10_tg_old</td>\n",
       "      <td>5697120.0</td>\n",
       "      <td>8.0</td>\n",
       "      <td>64.0</td>\n",
       "      <td>149.839362</td>\n",
       "      <td>18.729920</td>\n",
       "    </tr>\n",
       "    <tr>\n",
       "      <th>2</th>\n",
       "      <td>2</td>\n",
       "      <td>2</td>\n",
       "      <td>tg</td>\n",
       "      <td>#10_tg_old</td>\n",
       "      <td>6422816.0</td>\n",
       "      <td>8.0</td>\n",
       "      <td>32.0</td>\n",
       "      <td>66.454716</td>\n",
       "      <td>8.306840</td>\n",
       "    </tr>\n",
       "    <tr>\n",
       "      <th>3</th>\n",
       "      <td>3</td>\n",
       "      <td>3</td>\n",
       "      <td>tg</td>\n",
       "      <td>#10_tg_old</td>\n",
       "      <td>5394976.0</td>\n",
       "      <td>8.0</td>\n",
       "      <td>16.0</td>\n",
       "      <td>39.557768</td>\n",
       "      <td>4.944721</td>\n",
       "    </tr>\n",
       "    <tr>\n",
       "      <th>4</th>\n",
       "      <td>4</td>\n",
       "      <td>4</td>\n",
       "      <td>tg</td>\n",
       "      <td>#10_tg_old</td>\n",
       "      <td>4181696.0</td>\n",
       "      <td>9.0</td>\n",
       "      <td>69.0</td>\n",
       "      <td>220.088800</td>\n",
       "      <td>24.454311</td>\n",
       "    </tr>\n",
       "    <tr>\n",
       "      <th>...</th>\n",
       "      <td>...</td>\n",
       "      <td>...</td>\n",
       "      <td>...</td>\n",
       "      <td>...</td>\n",
       "      <td>...</td>\n",
       "      <td>...</td>\n",
       "      <td>...</td>\n",
       "      <td>...</td>\n",
       "      <td>...</td>\n",
       "    </tr>\n",
       "    <tr>\n",
       "      <th>56</th>\n",
       "      <td>56</td>\n",
       "      <td>59</td>\n",
       "      <td>wt</td>\n",
       "      <td>#9_wt_old</td>\n",
       "      <td>7410528.0</td>\n",
       "      <td>9.0</td>\n",
       "      <td>184.0</td>\n",
       "      <td>331.184482</td>\n",
       "      <td>36.798276</td>\n",
       "    </tr>\n",
       "    <tr>\n",
       "      <th>57</th>\n",
       "      <td>57</td>\n",
       "      <td>60</td>\n",
       "      <td>wt</td>\n",
       "      <td>#9_wt_old</td>\n",
       "      <td>7109728.0</td>\n",
       "      <td>10.0</td>\n",
       "      <td>152.0</td>\n",
       "      <td>285.162170</td>\n",
       "      <td>28.516217</td>\n",
       "    </tr>\n",
       "    <tr>\n",
       "      <th>58</th>\n",
       "      <td>58</td>\n",
       "      <td>61</td>\n",
       "      <td>wt</td>\n",
       "      <td>#9_wt_old</td>\n",
       "      <td>5770116.0</td>\n",
       "      <td>9.0</td>\n",
       "      <td>123.0</td>\n",
       "      <td>284.329471</td>\n",
       "      <td>31.592163</td>\n",
       "    </tr>\n",
       "    <tr>\n",
       "      <th>59</th>\n",
       "      <td>59</td>\n",
       "      <td>62</td>\n",
       "      <td>wt</td>\n",
       "      <td>#9_wt_old</td>\n",
       "      <td>5751712.0</td>\n",
       "      <td>9.0</td>\n",
       "      <td>86.0</td>\n",
       "      <td>199.435575</td>\n",
       "      <td>22.159508</td>\n",
       "    </tr>\n",
       "    <tr>\n",
       "      <th>60</th>\n",
       "      <td>60</td>\n",
       "      <td>63</td>\n",
       "      <td>wt</td>\n",
       "      <td>#9_wt_old</td>\n",
       "      <td>4715968.0</td>\n",
       "      <td>10.0</td>\n",
       "      <td>96.0</td>\n",
       "      <td>271.519917</td>\n",
       "      <td>27.151992</td>\n",
       "    </tr>\n",
       "  </tbody>\n",
       "</table>\n",
       "<p>61 rows × 9 columns</p>\n",
       "</div>"
      ],
      "text/plain": [
       "    Unnamed: 0  file_id group_id  subject_id  analyzed_area  total_planes  \\\n",
       "0            0        0       tg  #10_tg_old      1118784.0           8.0   \n",
       "1            1        1       tg  #10_tg_old      5697120.0           8.0   \n",
       "2            2        2       tg  #10_tg_old      6422816.0           8.0   \n",
       "3            3        3       tg  #10_tg_old      5394976.0           8.0   \n",
       "4            4        4       tg  #10_tg_old      4181696.0           9.0   \n",
       "..         ...      ...      ...         ...            ...           ...   \n",
       "56          56       59       wt   #9_wt_old      7410528.0           9.0   \n",
       "57          57       60       wt   #9_wt_old      7109728.0          10.0   \n",
       "58          58       61       wt   #9_wt_old      5770116.0           9.0   \n",
       "59          59       62       wt   #9_wt_old      5751712.0           9.0   \n",
       "60          60       63       wt   #9_wt_old      4715968.0          10.0   \n",
       "\n",
       "    connected_components  cc_normalized_per_area  cc_normalized_per_volume  \n",
       "0                    0.0                0.000000                  0.000000  \n",
       "1                   64.0              149.839362                 18.729920  \n",
       "2                   32.0               66.454716                  8.306840  \n",
       "3                   16.0               39.557768                  4.944721  \n",
       "4                   69.0              220.088800                 24.454311  \n",
       "..                   ...                     ...                       ...  \n",
       "56                 184.0              331.184482                 36.798276  \n",
       "57                 152.0              285.162170                 28.516217  \n",
       "58                 123.0              284.329471                 31.592163  \n",
       "59                  86.0              199.435575                 22.159508  \n",
       "60                  96.0              271.519917                 27.151992  \n",
       "\n",
       "[61 rows x 9 columns]"
      ]
     },
     "execution_count": 78,
     "metadata": {},
     "output_type": "execute_result"
    }
   ],
   "source": [
    "df_filtered"
   ]
  },
  {
   "cell_type": "code",
   "execution_count": 93,
   "id": "dc8cadd5-aa19-46c1-b088-901026c09de4",
   "metadata": {},
   "outputs": [],
   "source": [
    "cutoff = 1.5*df['cc_normalized_per_volume'].std()\n",
    "mean = df['cc_normalized_per_volume'].mean()\n",
    "min_value, max_value = df['cc_normalized_per_volume'].min(), df['cc_normalized_per_volume'].max()\n",
    "\n",
    "df_filtered = df[(df.cc_normalized_per_volume >= mean - cutoff) & (df.cc_normalized_per_volume <= mean + cutoff)]"
   ]
  },
  {
   "cell_type": "code",
   "execution_count": null,
   "id": "05164a03-689c-4830-bc40-1edcbb17e1aa",
   "metadata": {},
   "outputs": [
    {
     "data": {
      "image/png": "[encoded data removed]",
      "text/plain": [
       "<Figure size 432x288 with 1 Axes>"
      ]
     },
     "metadata": {
      "needs_background": "light"
     },
     "output_type": "display_data"
    }
   ],
   "source": [
    "plt.hist(df['cc_normalized_per_volume'], bins=25, range=(min_value, max_value), alpha=0.6, color='orange')\n",
    "plt.hist(df_filtered['cc_normalized_per_volume'], bins=25, range=(min_value, max_value), color='black')\n",
    "plt.show()\n"
   ]
  },
  {
   "cell_type": "markdown",
   "id": "c2022fad-e144-4346-ae29-5bbfcfb3f11c",
   "metadata": {},
   "source": [
    "# Generlized linear mixed effects model"
   ]
  },
  {
   "cell_type": "code",
   "execution_count": null,
   "id": "a775c1a1-cb84-4fe9-83ac-8bf49b24769e",
   "metadata": {},
   "outputs": [],
   "source": [
    "#inserted code chunk to deal with later\n",
    "gp_model = gpb.GPModel(group_data=group_data, likelihood=\"binary\")\n",
    "gp_model.fit(y=y, X=X)\n",
    "gp_model.summary()\n",
    "\n",
    "#p-values\n",
    "gp_model = gpb.GPModel(group_data=group, likelihood=\"binary\")\n",
    "gp_model.fit(y=y, X=X, params={“std_dev”: True})\n",
    "coefs = gp_model.get_coef()\n",
    "z_values = coefs[0] / coefs[1]\n",
    "p_values = 2 * stats.norm.cdf(-np.abs(z_values))\n",
    "print(p_values) # show p-values\n",
    "\n",
    "#predictions\n",
    "pred = gp_model.predict(X_pred=X_test, group_data_pred=group_test,\n",
    "                        predict_var=True, predict_response=False)\n",
    "print(pred['mu'])  # predicted latent mean\n",
    "print(pred['var']) # predicted latent variance"
   ]
  },
  {
   "cell_type": "markdown",
   "id": "296bb009-7261-459f-abeb-ddfa4a2faeaa",
   "metadata": {},
   "source": [
    "group_data_pred is a matrix or vector with categorical grouping variable(s) for which predictions are made\n",
    "\n",
    "X_pred is a matrix with fixed effects covariate data for which predictions are made\n",
    "\n",
    "predict_var (boolean) indicates whether predictive variances should be calculated in addition to the mean\n",
    "\n",
    "predict_response (boolean) indicates whether the response y or the latent Xb + Zu should be predicted. I.e., the random effects part is also predicted. If group_data_pred contains new, unobserved categories, the corresponding random effects predictions will be 0."
   ]
  },
  {
   "cell_type": "markdown",
   "id": "b5b9328d-abdd-4d17-9918-ad9e99bc5e86",
   "metadata": {},
   "source": [
    "## Visualize the distributions"
   ]
  },
  {
   "cell_type": "code",
   "execution_count": 199,
   "id": "ce2e2fe9-2dc8-4d8c-9983-446f8ec7039c",
   "metadata": {},
   "outputs": [
    {
     "data": {
      "text/plain": [
       "['alpha',\n",
       " 'anglit',\n",
       " 'arcsine',\n",
       " 'argus',\n",
       " 'beta',\n",
       " 'betaprime',\n",
       " 'bradford',\n",
       " 'burr',\n",
       " 'burr12',\n",
       " 'cauchy',\n",
       " 'chi',\n",
       " 'chi2',\n",
       " 'cosine',\n",
       " 'crystalball',\n",
       " 'dgamma',\n",
       " 'dweibull',\n",
       " 'erlang',\n",
       " 'expon',\n",
       " 'exponnorm',\n",
       " 'exponpow',\n",
       " 'exponweib',\n",
       " 'f',\n",
       " 'fatiguelife',\n",
       " 'fisk',\n",
       " 'foldcauchy',\n",
       " 'foldnorm',\n",
       " 'gamma',\n",
       " 'gausshyper',\n",
       " 'genexpon',\n",
       " 'genextreme',\n",
       " 'gengamma',\n",
       " 'genhalflogistic',\n",
       " 'genhyperbolic',\n",
       " 'geninvgauss',\n",
       " 'genlogistic',\n",
       " 'gennorm',\n",
       " 'genpareto',\n",
       " 'gilbrat',\n",
       " 'gompertz',\n",
       " 'gumbel_l',\n",
       " 'gumbel_r',\n",
       " 'halfcauchy',\n",
       " 'halfgennorm',\n",
       " 'halflogistic',\n",
       " 'halfnorm',\n",
       " 'hypsecant',\n",
       " 'invgamma',\n",
       " 'invgauss',\n",
       " 'invweibull',\n",
       " 'johnsonsb',\n",
       " 'johnsonsu',\n",
       " 'kappa3',\n",
       " 'kappa4',\n",
       " 'ksone',\n",
       " 'kstwo',\n",
       " 'kstwobign',\n",
       " 'laplace',\n",
       " 'laplace_asymmetric',\n",
       " 'levy',\n",
       " 'levy_l',\n",
       " 'levy_stable',\n",
       " 'loggamma',\n",
       " 'logistic',\n",
       " 'loglaplace',\n",
       " 'lognorm',\n",
       " 'loguniform',\n",
       " 'lomax',\n",
       " 'maxwell',\n",
       " 'mielke',\n",
       " 'moyal',\n",
       " 'nakagami',\n",
       " 'ncf',\n",
       " 'nct',\n",
       " 'ncx2',\n",
       " 'norm',\n",
       " 'norminvgauss',\n",
       " 'pareto',\n",
       " 'pearson3',\n",
       " 'powerlaw',\n",
       " 'powerlognorm',\n",
       " 'powernorm',\n",
       " 'rayleigh',\n",
       " 'rdist',\n",
       " 'recipinvgauss',\n",
       " 'reciprocal',\n",
       " 'rice',\n",
       " 'rv_continuous',\n",
       " 'rv_histogram',\n",
       " 'semicircular',\n",
       " 'skewcauchy',\n",
       " 'skewnorm',\n",
       " 'studentized_range',\n",
       " 't',\n",
       " 'trapezoid',\n",
       " 'trapz',\n",
       " 'triang',\n",
       " 'truncexpon',\n",
       " 'truncnorm',\n",
       " 'tukeylambda',\n",
       " 'uniform',\n",
       " 'vonmises',\n",
       " 'vonmises_line',\n",
       " 'wald',\n",
       " 'weibull_max',\n",
       " 'weibull_min',\n",
       " 'wrapcauchy']"
      ]
     },
     "execution_count": 199,
     "metadata": {},
     "output_type": "execute_result"
    }
   ],
   "source": [
    "from fitter import get_distributions\n",
    "get_distributions()"
   ]
  },
  {
   "cell_type": "code",
   "execution_count": 24,
   "id": "8b77ab58-1b90-47c2-8f3c-3c4ffe61d119",
   "metadata": {},
   "outputs": [
    {
     "data": {
      "text/html": [
       "<div>\n",
       "<style scoped>\n",
       "    .dataframe tbody tr th:only-of-type {\n",
       "        vertical-align: middle;\n",
       "    }\n",
       "\n",
       "    .dataframe tbody tr th {\n",
       "        vertical-align: top;\n",
       "    }\n",
       "\n",
       "    .dataframe thead th {\n",
       "        text-align: right;\n",
       "    }\n",
       "</style>\n",
       "<table border=\"1\" class=\"dataframe\">\n",
       "  <thead>\n",
       "    <tr style=\"text-align: right;\">\n",
       "      <th></th>\n",
       "      <th>sumsquare_error</th>\n",
       "      <th>aic</th>\n",
       "      <th>bic</th>\n",
       "      <th>kl_div</th>\n",
       "    </tr>\n",
       "  </thead>\n",
       "  <tbody>\n",
       "    <tr>\n",
       "      <th>norm</th>\n",
       "      <td>0.088308</td>\n",
       "      <td>780.197966</td>\n",
       "      <td>-390.583766</td>\n",
       "      <td>inf</td>\n",
       "    </tr>\n",
       "    <tr>\n",
       "      <th>gamma</th>\n",
       "      <td>0.088521</td>\n",
       "      <td>781.830249</td>\n",
       "      <td>-386.326211</td>\n",
       "      <td>inf</td>\n",
       "    </tr>\n",
       "    <tr>\n",
       "      <th>lognorm</th>\n",
       "      <td>0.090317</td>\n",
       "      <td>784.101266</td>\n",
       "      <td>-385.100941</td>\n",
       "      <td>inf</td>\n",
       "    </tr>\n",
       "  </tbody>\n",
       "</table>\n",
       "</div>"
      ],
      "text/plain": [
       "         sumsquare_error         aic         bic  kl_div\n",
       "norm            0.088308  780.197966 -390.583766     inf\n",
       "gamma           0.088521  781.830249 -386.326211     inf\n",
       "lognorm         0.090317  784.101266 -385.100941     inf"
      ]
     },
     "execution_count": 24,
     "metadata": {},
     "output_type": "execute_result"
    },
    {
     "data": {
      "image/png": "[encoded data removed]",
      "text/plain": [
       "<Figure size 432x288 with 1 Axes>"
      ]
     },
     "metadata": {
      "needs_background": "light"
     },
     "output_type": "display_data"
    }
   ],
   "source": [
    "from fitter import Fitter, get_common_distributions, get_distributions\n",
    "f = Fitter(df['cc_normalized_per_volume'],\n",
    "           distributions=['gamma',\n",
    "                          'lognorm',\n",
    "                          \"norm\"])\n",
    "f.fit()\n",
    "f.summary()"
   ]
  },
  {
   "cell_type": "code",
   "execution_count": 32,
   "id": "1e9f8635-6169-4ee5-ac97-2fbd984142e8",
   "metadata": {},
   "outputs": [
    {
     "ename": "IndentationError",
     "evalue": "unexpected indent (<ipython-input-32-5d1357663cf5>, line 4)",
     "output_type": "error",
     "traceback": [
      "\u001b[0;36m  File \u001b[0;32m\"<ipython-input-32-5d1357663cf5>\"\u001b[0;36m, line \u001b[0;32m4\u001b[0m\n\u001b[0;31m    pylab.grid(True)\u001b[0m\n\u001b[0m    ^\u001b[0m\n\u001b[0;31mIndentationError\u001b[0m\u001b[0;31m:\u001b[0m unexpected indent\n"
     ]
    }
   ],
   "source": [
    "#Try to change the histogram bins - pylab won't load\n",
    "import pylab\n",
    "#f.hist()\n",
    "pylab.hist(f, bins=self.bins, density=self._density)\n",
    "        pylab.grid(True)"
   ]
  },
  {
   "cell_type": "code",
   "execution_count": 202,
   "id": "3b076bb6-dbdc-4c53-965e-8846461ce568",
   "metadata": {},
   "outputs": [
    {
     "data": {
      "text/plain": [
       "(1003.851620085713, -281.42077120667045, 0.2990063234933311)"
      ]
     },
     "execution_count": 202,
     "metadata": {},
     "output_type": "execute_result"
    }
   ],
   "source": [
    "#figure out which method is best based on the available criteria\n",
    "f.get_best(method = 'aic')"
   ]
  },
  {
   "cell_type": "code",
   "execution_count": null,
   "id": "404ed8bb-535e-417f-b4c2-ce9faa1207b8",
   "metadata": {},
   "outputs": [],
   "source": [
    "#get parameters for a certain function - not noted what they mean\n",
    "f.fitted_param['gamma']"
   ]
  },
  {
   "cell_type": "code",
   "execution_count": 203,
   "id": "83435ca5-aa31-4252-9254-de89dc10ad35",
   "metadata": {},
   "outputs": [
    {
     "data": {
      "text/plain": [
       "array([0.00608565, 0.00661695, 0.00718079, 0.00777772, 0.00840815,\n",
       "       0.00907235, 0.00977038, 0.01050215, 0.01126737, 0.01206553,\n",
       "       0.01289592, 0.01375758, 0.01464934, 0.01556979, 0.01651727,\n",
       "       0.01748987, 0.01848546, 0.01950164, 0.0205358 , 0.02158508,\n",
       "       0.02264642, 0.02371654, 0.02479199, 0.02586912, 0.02694414,\n",
       "       0.02801312, 0.02907202, 0.03011671, 0.03114302, 0.03214673,\n",
       "       0.03312362, 0.0340695 , 0.03498024, 0.0358518 , 0.03668024,\n",
       "       0.0374618 , 0.03819287, 0.03887005, 0.03949019, 0.04005036,\n",
       "       0.04054795, 0.04098063, 0.04134637, 0.04164352, 0.04187072,\n",
       "       0.04202701, 0.04211178, 0.04212478, 0.04206612, 0.0419363 ,\n",
       "       0.04173616, 0.04146689, 0.04113002, 0.0407274 , 0.04026121,\n",
       "       0.03973389, 0.03914816, 0.03850699, 0.03781355, 0.03707123,\n",
       "       0.03628356, 0.03545424, 0.03458705, 0.03368586, 0.03275463,\n",
       "       0.03179729, 0.03081783, 0.02982016, 0.02880818, 0.02778571,\n",
       "       0.02675645, 0.02572402, 0.02469188, 0.02366334, 0.02264158,\n",
       "       0.02162955, 0.02063004, 0.01964566, 0.01867878, 0.01773158,\n",
       "       0.01680603, 0.01590389, 0.01502671, 0.01417583, 0.01335238,\n",
       "       0.01255729, 0.01179131, 0.01105501, 0.01034876, 0.00967278,\n",
       "       0.00902713, 0.00841173, 0.00782637, 0.00727068, 0.00674423,\n",
       "       0.00624645, 0.00577669, 0.00533424, 0.00491829, 0.00452799])"
      ]
     },
     "execution_count": 203,
     "metadata": {},
     "output_type": "execute_result"
    }
   ],
   "source": [
    "#datapoints for the probability density function\n",
    "f.fitted_pdf['gamma']"
   ]
  },
  {
   "cell_type": "code",
   "execution_count": 204,
   "id": "cb494eca-9d25-4bc2-82f8-2b5100943954",
   "metadata": {},
   "outputs": [
    {
     "data": {
      "text/plain": [
       "[<matplotlib.lines.Line2D at 0x7fd3286917c0>]"
      ]
     },
     "execution_count": 204,
     "metadata": {},
     "output_type": "execute_result"
    },
    {
     "data": {
      "image/png": "[encoded data removed]",
      "text/plain": [
       "<Figure size 432x288 with 1 Axes>"
      ]
     },
     "metadata": {},
     "output_type": "display_data"
    }
   ],
   "source": [
    "from pylab import linspace, plot\n",
    "import scipy.stats\n",
    "\n",
    "dist = scipy.stats.gamma\n",
    "param = (1.9870, 1.5026, 2.0174)\n",
    "X = linspace(0,10, 10)\n",
    "pdf_fitted = dist.pdf(X, *param)\n",
    "plot(X, pdf_fitted, 'o-')"
   ]
  },
  {
   "cell_type": "code",
   "execution_count": 38,
   "id": "90f80f40-d437-4187-8cbf-7c0677aadde9",
   "metadata": {},
   "outputs": [
    {
     "ename": "OSError",
     "evalue": "dlopen(/Users/Sofie/opt/anaconda3/envs/DCL_image/lib/python3.8/site-packages/gpboost/lib_gpboost.so, 0x0006): Library not loaded: /usr/local/opt/libomp/lib/libomp.dylib\n  Referenced from: /Users/Sofie/opt/anaconda3/envs/DCL_image/lib/python3.8/site-packages/gpboost/lib_gpboost.so\n  Reason: tried: '/usr/local/opt/libomp/lib/libomp.dylib' (no such file), '/usr/local/lib/libomp.dylib' (no such file), '/usr/lib/libomp.dylib' (no such file)",
     "output_type": "error",
     "traceback": [
      "\u001b[0;31m---------------------------------------------------------------------------\u001b[0m",
      "\u001b[0;31mOSError\u001b[0m                                   Traceback (most recent call last)",
      "\u001b[0;32m<ipython-input-38-525f337f8f6c>\u001b[0m in \u001b[0;36m<module>\u001b[0;34m\u001b[0m\n\u001b[0;32m----> 1\u001b[0;31m \u001b[0;32mimport\u001b[0m \u001b[0mgpboost\u001b[0m \u001b[0;32mas\u001b[0m \u001b[0mgpb\u001b[0m\u001b[0;34m\u001b[0m\u001b[0;34m\u001b[0m\u001b[0m\n\u001b[0m\u001b[1;32m      2\u001b[0m \u001b[0mgp_model\u001b[0m \u001b[0;34m=\u001b[0m \u001b[0mgpb\u001b[0m\u001b[0;34m.\u001b[0m\u001b[0mGPModel\u001b[0m\u001b[0;34m(\u001b[0m\u001b[0mgroup_data\u001b[0m\u001b[0;34m=\u001b[0m\u001b[0mdf\u001b[0m\u001b[0;34m[\u001b[0m\u001b[0;34m'subject_id'\u001b[0m\u001b[0;34m]\u001b[0m\u001b[0;34m,\u001b[0m \u001b[0mlikelihood\u001b[0m\u001b[0;34m=\u001b[0m\u001b[0;34m\"lognorm\"\u001b[0m\u001b[0;34m)\u001b[0m\u001b[0;34m\u001b[0m\u001b[0;34m\u001b[0m\u001b[0m\n\u001b[1;32m      3\u001b[0m \u001b[0mgp_model\u001b[0m\u001b[0;34m.\u001b[0m\u001b[0mfit\u001b[0m\u001b[0;34m(\u001b[0m\u001b[0my\u001b[0m\u001b[0;34m=\u001b[0m\u001b[0;34m'cc_normalized_per_volume'\u001b[0m\u001b[0;34m,\u001b[0m \u001b[0mx\u001b[0m \u001b[0;34m=\u001b[0m \u001b[0;34m'group_id'\u001b[0m\u001b[0;34m)\u001b[0m\u001b[0;34m\u001b[0m\u001b[0;34m\u001b[0m\u001b[0m\n\u001b[1;32m      4\u001b[0m \u001b[0mgp_model\u001b[0m\u001b[0;34m.\u001b[0m\u001b[0msummary\u001b[0m\u001b[0;34m(\u001b[0m\u001b[0;34m)\u001b[0m\u001b[0;34m\u001b[0m\u001b[0;34m\u001b[0m\u001b[0m\n",
      "\u001b[0;32m~/opt/anaconda3/envs/DCL_image/lib/python3.8/site-packages/gpboost/__init__.py\u001b[0m in \u001b[0;36m<module>\u001b[0;34m\u001b[0m\n\u001b[1;32m      4\u001b[0m  \u001b[0mModified\u001b[0m \u001b[0mwork\u001b[0m \u001b[0mCopyright\u001b[0m \u001b[0;34m(\u001b[0m\u001b[0mc\u001b[0m\u001b[0;34m)\u001b[0m \u001b[0;36m2020\u001b[0m \u001b[0mFabio\u001b[0m \u001b[0mSigrist\u001b[0m\u001b[0;34m.\u001b[0m \u001b[0mAll\u001b[0m \u001b[0mrights\u001b[0m \u001b[0mreserved\u001b[0m\u001b[0;34m.\u001b[0m\u001b[0;34m\u001b[0m\u001b[0;34m\u001b[0m\u001b[0m\n\u001b[1;32m      5\u001b[0m \"\"\"\n\u001b[0;32m----> 6\u001b[0;31m \u001b[0;32mfrom\u001b[0m \u001b[0;34m.\u001b[0m\u001b[0mbasic\u001b[0m \u001b[0;32mimport\u001b[0m \u001b[0mBooster\u001b[0m\u001b[0;34m,\u001b[0m \u001b[0mDataset\u001b[0m\u001b[0;34m,\u001b[0m \u001b[0mregister_logger\u001b[0m\u001b[0;34m,\u001b[0m \u001b[0mGPModel\u001b[0m\u001b[0;34m\u001b[0m\u001b[0;34m\u001b[0m\u001b[0m\n\u001b[0m\u001b[1;32m      7\u001b[0m from .callback import (early_stopping, print_evaluation, record_evaluation,\n\u001b[1;32m      8\u001b[0m                        reset_parameter)\n",
      "\u001b[0;32m~/opt/anaconda3/envs/DCL_image/lib/python3.8/site-packages/gpboost/basic.py\u001b[0m in \u001b[0;36m<module>\u001b[0;34m\u001b[0m\n\u001b[1;32m     99\u001b[0m \u001b[0;34m\u001b[0m\u001b[0m\n\u001b[1;32m    100\u001b[0m \u001b[0;34m\u001b[0m\u001b[0m\n\u001b[0;32m--> 101\u001b[0;31m \u001b[0m_LIB\u001b[0m \u001b[0;34m=\u001b[0m \u001b[0m_load_lib\u001b[0m\u001b[0;34m(\u001b[0m\u001b[0;34m)\u001b[0m\u001b[0;34m\u001b[0m\u001b[0;34m\u001b[0m\u001b[0m\n\u001b[0m\u001b[1;32m    102\u001b[0m \u001b[0;34m\u001b[0m\u001b[0m\n\u001b[1;32m    103\u001b[0m \u001b[0mNUMERIC_TYPES\u001b[0m \u001b[0;34m=\u001b[0m \u001b[0;34m(\u001b[0m\u001b[0mint\u001b[0m\u001b[0;34m,\u001b[0m \u001b[0mfloat\u001b[0m\u001b[0;34m,\u001b[0m \u001b[0mbool\u001b[0m\u001b[0;34m)\u001b[0m\u001b[0;34m\u001b[0m\u001b[0;34m\u001b[0m\u001b[0m\n",
      "\u001b[0;32m~/opt/anaconda3/envs/DCL_image/lib/python3.8/site-packages/gpboost/basic.py\u001b[0m in \u001b[0;36m_load_lib\u001b[0;34m()\u001b[0m\n\u001b[1;32m     90\u001b[0m     \u001b[0;32mif\u001b[0m \u001b[0mlen\u001b[0m\u001b[0;34m(\u001b[0m\u001b[0mlib_path\u001b[0m\u001b[0;34m)\u001b[0m \u001b[0;34m==\u001b[0m \u001b[0;36m0\u001b[0m\u001b[0;34m:\u001b[0m\u001b[0;34m\u001b[0m\u001b[0;34m\u001b[0m\u001b[0m\n\u001b[1;32m     91\u001b[0m         \u001b[0;32mreturn\u001b[0m \u001b[0;32mNone\u001b[0m\u001b[0;34m\u001b[0m\u001b[0;34m\u001b[0m\u001b[0m\n\u001b[0;32m---> 92\u001b[0;31m     \u001b[0mlib\u001b[0m \u001b[0;34m=\u001b[0m \u001b[0mctypes\u001b[0m\u001b[0;34m.\u001b[0m\u001b[0mcdll\u001b[0m\u001b[0;34m.\u001b[0m\u001b[0mLoadLibrary\u001b[0m\u001b[0;34m(\u001b[0m\u001b[0mlib_path\u001b[0m\u001b[0;34m[\u001b[0m\u001b[0;36m0\u001b[0m\u001b[0;34m]\u001b[0m\u001b[0;34m)\u001b[0m\u001b[0;34m\u001b[0m\u001b[0;34m\u001b[0m\u001b[0m\n\u001b[0m\u001b[1;32m     93\u001b[0m     \u001b[0mlib\u001b[0m\u001b[0;34m.\u001b[0m\u001b[0mLGBM_GetLastError\u001b[0m\u001b[0;34m.\u001b[0m\u001b[0mrestype\u001b[0m \u001b[0;34m=\u001b[0m \u001b[0mctypes\u001b[0m\u001b[0;34m.\u001b[0m\u001b[0mc_char_p\u001b[0m\u001b[0;34m\u001b[0m\u001b[0;34m\u001b[0m\u001b[0m\n\u001b[1;32m     94\u001b[0m     \u001b[0mcallback\u001b[0m \u001b[0;34m=\u001b[0m \u001b[0mctypes\u001b[0m\u001b[0;34m.\u001b[0m\u001b[0mCFUNCTYPE\u001b[0m\u001b[0;34m(\u001b[0m\u001b[0;32mNone\u001b[0m\u001b[0;34m,\u001b[0m \u001b[0mctypes\u001b[0m\u001b[0;34m.\u001b[0m\u001b[0mc_char_p\u001b[0m\u001b[0;34m)\u001b[0m\u001b[0;34m\u001b[0m\u001b[0;34m\u001b[0m\u001b[0m\n",
      "\u001b[0;32m~/opt/anaconda3/envs/DCL_image/lib/python3.8/ctypes/__init__.py\u001b[0m in \u001b[0;36mLoadLibrary\u001b[0;34m(self, name)\u001b[0m\n\u001b[1;32m    457\u001b[0m \u001b[0;34m\u001b[0m\u001b[0m\n\u001b[1;32m    458\u001b[0m     \u001b[0;32mdef\u001b[0m \u001b[0mLoadLibrary\u001b[0m\u001b[0;34m(\u001b[0m\u001b[0mself\u001b[0m\u001b[0;34m,\u001b[0m \u001b[0mname\u001b[0m\u001b[0;34m)\u001b[0m\u001b[0;34m:\u001b[0m\u001b[0;34m\u001b[0m\u001b[0;34m\u001b[0m\u001b[0m\n\u001b[0;32m--> 459\u001b[0;31m         \u001b[0;32mreturn\u001b[0m \u001b[0mself\u001b[0m\u001b[0;34m.\u001b[0m\u001b[0m_dlltype\u001b[0m\u001b[0;34m(\u001b[0m\u001b[0mname\u001b[0m\u001b[0;34m)\u001b[0m\u001b[0;34m\u001b[0m\u001b[0;34m\u001b[0m\u001b[0m\n\u001b[0m\u001b[1;32m    460\u001b[0m \u001b[0;34m\u001b[0m\u001b[0m\n\u001b[1;32m    461\u001b[0m \u001b[0mcdll\u001b[0m \u001b[0;34m=\u001b[0m \u001b[0mLibraryLoader\u001b[0m\u001b[0;34m(\u001b[0m\u001b[0mCDLL\u001b[0m\u001b[0;34m)\u001b[0m\u001b[0;34m\u001b[0m\u001b[0;34m\u001b[0m\u001b[0m\n",
      "\u001b[0;32m~/opt/anaconda3/envs/DCL_image/lib/python3.8/ctypes/__init__.py\u001b[0m in \u001b[0;36m__init__\u001b[0;34m(self, name, mode, handle, use_errno, use_last_error, winmode)\u001b[0m\n\u001b[1;32m    379\u001b[0m \u001b[0;34m\u001b[0m\u001b[0m\n\u001b[1;32m    380\u001b[0m         \u001b[0;32mif\u001b[0m \u001b[0mhandle\u001b[0m \u001b[0;32mis\u001b[0m \u001b[0;32mNone\u001b[0m\u001b[0;34m:\u001b[0m\u001b[0;34m\u001b[0m\u001b[0;34m\u001b[0m\u001b[0m\n\u001b[0;32m--> 381\u001b[0;31m             \u001b[0mself\u001b[0m\u001b[0;34m.\u001b[0m\u001b[0m_handle\u001b[0m \u001b[0;34m=\u001b[0m \u001b[0m_dlopen\u001b[0m\u001b[0;34m(\u001b[0m\u001b[0mself\u001b[0m\u001b[0;34m.\u001b[0m\u001b[0m_name\u001b[0m\u001b[0;34m,\u001b[0m \u001b[0mmode\u001b[0m\u001b[0;34m)\u001b[0m\u001b[0;34m\u001b[0m\u001b[0;34m\u001b[0m\u001b[0m\n\u001b[0m\u001b[1;32m    382\u001b[0m         \u001b[0;32melse\u001b[0m\u001b[0;34m:\u001b[0m\u001b[0;34m\u001b[0m\u001b[0;34m\u001b[0m\u001b[0m\n\u001b[1;32m    383\u001b[0m             \u001b[0mself\u001b[0m\u001b[0;34m.\u001b[0m\u001b[0m_handle\u001b[0m \u001b[0;34m=\u001b[0m \u001b[0mhandle\u001b[0m\u001b[0;34m\u001b[0m\u001b[0;34m\u001b[0m\u001b[0m\n",
      "\u001b[0;31mOSError\u001b[0m: dlopen(/Users/Sofie/opt/anaconda3/envs/DCL_image/lib/python3.8/site-packages/gpboost/lib_gpboost.so, 0x0006): Library not loaded: /usr/local/opt/libomp/lib/libomp.dylib\n  Referenced from: /Users/Sofie/opt/anaconda3/envs/DCL_image/lib/python3.8/site-packages/gpboost/lib_gpboost.so\n  Reason: tried: '/usr/local/opt/libomp/lib/libomp.dylib' (no such file), '/usr/local/lib/libomp.dylib' (no such file), '/usr/lib/libomp.dylib' (no such file)"
     ]
    }
   ],
   "source": [
    "import gpboost as gpb\n",
    "gp_model = gpb.GPModel(group_data=df['subject_id'], likelihood=\"lognorm\")\n",
    "gp_model.fit(y='cc_normalized_per_volume', x = 'group_id')\n",
    "gp_model.summary()"
   ]
  },
  {
   "cell_type": "code",
   "execution_count": null,
   "id": "4dd39d7d-b2cf-4423-b0de-dc01a0129542",
   "metadata": {},
   "outputs": [],
   "source": []
  }
 ],
 "metadata": {
  "kernelspec": {
   "display_name": "Python 3",
   "language": "python",
   "name": "python3"
  },
  "language_info": {
   "codemirror_mode": {
    "name": "ipython",
    "version": 3
   },
   "file_extension": ".py",
   "mimetype": "text/x-python",
   "name": "python",
   "nbconvert_exporter": "python",
   "pygments_lexer": "ipython3",
   "version": "3.8.13"
  }
 },
 "nbformat": 4,
 "nbformat_minor": 5
}
