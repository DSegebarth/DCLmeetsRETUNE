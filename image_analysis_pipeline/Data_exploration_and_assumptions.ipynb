{
 "cells": [
  {
   "cell_type": "code",
   "execution_count": 1,
   "id": "09e0948a-2cc8-4061-b908-7867a22d2f2e",
   "metadata": {},
   "outputs": [],
   "source": [
    "import sys\n",
    "sys.path.append('/Users/Sofie/Documents/DCL/DCLmeetsRETUNE/image_analysis_pipeline/')"
   ]
  },
  {
   "cell_type": "code",
   "execution_count": 2,
   "id": "cd696a6a-30b4-44cb-8456-b0df07dd73a0",
   "metadata": {},
   "outputs": [],
   "source": [
    "from findmycells.main import Project\n",
    "from findmycells.quantifications import ReconstructCellsIn3DFrom2DInstanceLabels, CountCellsInWholeStructure\n",
    "#from findmycells.inspection import InspectUsingMultiMatchIDX"
   ]
  },
  {
   "cell_type": "code",
   "execution_count": 35,
   "id": "0dec2302-5e2a-4e66-9710-04652b3b1ac4",
   "metadata": {},
   "outputs": [],
   "source": [
    "import pandas as pd\n",
    "import numpy as np\n",
    "import seaborn as sns\n",
    "#import pingouin as pg\n",
    "import matplotlib.pyplot as plt\n",
    "from scipy.stats import shapiro\n",
    "import scipy\n",
    "import statsmodels.formula.api as smf\n",
    "from scipy.stats import norm, levene\n",
    "import statistics\n",
    "#import statsmodels.api as sm\n",
    "import pingouin as pg"
   ]
  },
  {
   "cell_type": "markdown",
   "id": "4299240f-2c50-4be5-800e-60f68695141d",
   "metadata": {},
   "source": [
    "## Load and Prepare the Data"
   ]
  },
  {
   "cell_type": "code",
   "execution_count": 5,
   "id": "47da210b-8f7c-4d10-a0a2-d9a4a9be3acb",
   "metadata": {},
   "outputs": [],
   "source": [
    "df = pd.read_csv('counted_cells.csv')"
   ]
  },
  {
   "cell_type": "code",
   "execution_count": 6,
   "id": "cbc95bd2-79d1-43ca-aa19-5972ba618828",
   "metadata": {},
   "outputs": [
    {
     "data": {
      "text/html": [
       "<div>\n",
       "<style scoped>\n",
       "    .dataframe tbody tr th:only-of-type {\n",
       "        vertical-align: middle;\n",
       "    }\n",
       "\n",
       "    .dataframe tbody tr th {\n",
       "        vertical-align: top;\n",
       "    }\n",
       "\n",
       "    .dataframe thead th {\n",
       "        text-align: right;\n",
       "    }\n",
       "</style>\n",
       "<table border=\"1\" class=\"dataframe\">\n",
       "  <thead>\n",
       "    <tr style=\"text-align: right;\">\n",
       "      <th></th>\n",
       "      <th>Unnamed: 0</th>\n",
       "      <th>file_id</th>\n",
       "      <th>group_id</th>\n",
       "      <th>subject_id</th>\n",
       "      <th>analyzed_area</th>\n",
       "      <th>total_planes</th>\n",
       "      <th>connected_components</th>\n",
       "      <th>cc_normalized_per_area</th>\n",
       "      <th>cc_normalized_per_volume</th>\n",
       "    </tr>\n",
       "  </thead>\n",
       "  <tbody>\n",
       "    <tr>\n",
       "      <th>51</th>\n",
       "      <td>51</td>\n",
       "      <td>54</td>\n",
       "      <td>wt</td>\n",
       "      <td>#7_wt_old</td>\n",
       "      <td>8767360.0</td>\n",
       "      <td>9.0</td>\n",
       "      <td>86.0</td>\n",
       "      <td>130.837103</td>\n",
       "      <td>14.537456</td>\n",
       "    </tr>\n",
       "    <tr>\n",
       "      <th>52</th>\n",
       "      <td>52</td>\n",
       "      <td>55</td>\n",
       "      <td>wt</td>\n",
       "      <td>#7_wt_old</td>\n",
       "      <td>5892928.0</td>\n",
       "      <td>8.0</td>\n",
       "      <td>12.0</td>\n",
       "      <td>27.161354</td>\n",
       "      <td>3.395169</td>\n",
       "    </tr>\n",
       "    <tr>\n",
       "      <th>53</th>\n",
       "      <td>53</td>\n",
       "      <td>56</td>\n",
       "      <td>wt</td>\n",
       "      <td>#7_wt_old</td>\n",
       "      <td>4314688.0</td>\n",
       "      <td>9.0</td>\n",
       "      <td>70.0</td>\n",
       "      <td>216.396361</td>\n",
       "      <td>24.044040</td>\n",
       "    </tr>\n",
       "    <tr>\n",
       "      <th>54</th>\n",
       "      <td>54</td>\n",
       "      <td>57</td>\n",
       "      <td>wt</td>\n",
       "      <td>#9_wt_old</td>\n",
       "      <td>5140832.0</td>\n",
       "      <td>8.0</td>\n",
       "      <td>46.0</td>\n",
       "      <td>119.350909</td>\n",
       "      <td>14.918864</td>\n",
       "    </tr>\n",
       "    <tr>\n",
       "      <th>55</th>\n",
       "      <td>55</td>\n",
       "      <td>58</td>\n",
       "      <td>wt</td>\n",
       "      <td>#9_wt_old</td>\n",
       "      <td>4477600.0</td>\n",
       "      <td>8.0</td>\n",
       "      <td>71.0</td>\n",
       "      <td>211.501944</td>\n",
       "      <td>26.437743</td>\n",
       "    </tr>\n",
       "    <tr>\n",
       "      <th>56</th>\n",
       "      <td>56</td>\n",
       "      <td>59</td>\n",
       "      <td>wt</td>\n",
       "      <td>#9_wt_old</td>\n",
       "      <td>7410528.0</td>\n",
       "      <td>9.0</td>\n",
       "      <td>184.0</td>\n",
       "      <td>331.184482</td>\n",
       "      <td>36.798276</td>\n",
       "    </tr>\n",
       "    <tr>\n",
       "      <th>57</th>\n",
       "      <td>57</td>\n",
       "      <td>60</td>\n",
       "      <td>wt</td>\n",
       "      <td>#9_wt_old</td>\n",
       "      <td>7109728.0</td>\n",
       "      <td>10.0</td>\n",
       "      <td>152.0</td>\n",
       "      <td>285.162170</td>\n",
       "      <td>28.516217</td>\n",
       "    </tr>\n",
       "    <tr>\n",
       "      <th>58</th>\n",
       "      <td>58</td>\n",
       "      <td>61</td>\n",
       "      <td>wt</td>\n",
       "      <td>#9_wt_old</td>\n",
       "      <td>5770116.0</td>\n",
       "      <td>9.0</td>\n",
       "      <td>123.0</td>\n",
       "      <td>284.329471</td>\n",
       "      <td>31.592163</td>\n",
       "    </tr>\n",
       "    <tr>\n",
       "      <th>59</th>\n",
       "      <td>59</td>\n",
       "      <td>62</td>\n",
       "      <td>wt</td>\n",
       "      <td>#9_wt_old</td>\n",
       "      <td>5751712.0</td>\n",
       "      <td>9.0</td>\n",
       "      <td>86.0</td>\n",
       "      <td>199.435575</td>\n",
       "      <td>22.159508</td>\n",
       "    </tr>\n",
       "    <tr>\n",
       "      <th>60</th>\n",
       "      <td>60</td>\n",
       "      <td>63</td>\n",
       "      <td>wt</td>\n",
       "      <td>#9_wt_old</td>\n",
       "      <td>4715968.0</td>\n",
       "      <td>10.0</td>\n",
       "      <td>96.0</td>\n",
       "      <td>271.519917</td>\n",
       "      <td>27.151992</td>\n",
       "    </tr>\n",
       "  </tbody>\n",
       "</table>\n",
       "</div>"
      ],
      "text/plain": [
       "    Unnamed: 0  file_id group_id subject_id  analyzed_area  total_planes  \\\n",
       "51          51       54       wt  #7_wt_old      8767360.0           9.0   \n",
       "52          52       55       wt  #7_wt_old      5892928.0           8.0   \n",
       "53          53       56       wt  #7_wt_old      4314688.0           9.0   \n",
       "54          54       57       wt  #9_wt_old      5140832.0           8.0   \n",
       "55          55       58       wt  #9_wt_old      4477600.0           8.0   \n",
       "56          56       59       wt  #9_wt_old      7410528.0           9.0   \n",
       "57          57       60       wt  #9_wt_old      7109728.0          10.0   \n",
       "58          58       61       wt  #9_wt_old      5770116.0           9.0   \n",
       "59          59       62       wt  #9_wt_old      5751712.0           9.0   \n",
       "60          60       63       wt  #9_wt_old      4715968.0          10.0   \n",
       "\n",
       "    connected_components  cc_normalized_per_area  cc_normalized_per_volume  \n",
       "51                  86.0              130.837103                 14.537456  \n",
       "52                  12.0               27.161354                  3.395169  \n",
       "53                  70.0              216.396361                 24.044040  \n",
       "54                  46.0              119.350909                 14.918864  \n",
       "55                  71.0              211.501944                 26.437743  \n",
       "56                 184.0              331.184482                 36.798276  \n",
       "57                 152.0              285.162170                 28.516217  \n",
       "58                 123.0              284.329471                 31.592163  \n",
       "59                  86.0              199.435575                 22.159508  \n",
       "60                  96.0              271.519917                 27.151992  "
      ]
     },
     "execution_count": 6,
     "metadata": {},
     "output_type": "execute_result"
    }
   ],
   "source": [
    "df.tail(10)"
   ]
  },
  {
   "cell_type": "code",
   "execution_count": 7,
   "id": "fe25a955-d8ab-457d-a0e5-c4f3f6bc182e",
   "metadata": {},
   "outputs": [
    {
     "data": {
      "text/html": [
       "<div>\n",
       "<style scoped>\n",
       "    .dataframe tbody tr th:only-of-type {\n",
       "        vertical-align: middle;\n",
       "    }\n",
       "\n",
       "    .dataframe tbody tr th {\n",
       "        vertical-align: top;\n",
       "    }\n",
       "\n",
       "    .dataframe thead th {\n",
       "        text-align: right;\n",
       "    }\n",
       "</style>\n",
       "<table border=\"1\" class=\"dataframe\">\n",
       "  <thead>\n",
       "    <tr style=\"text-align: right;\">\n",
       "      <th></th>\n",
       "      <th>Unnamed: 0</th>\n",
       "      <th>file_id</th>\n",
       "      <th>analyzed_area</th>\n",
       "      <th>total_planes</th>\n",
       "      <th>connected_components</th>\n",
       "      <th>cc_normalized_per_area</th>\n",
       "      <th>cc_normalized_per_volume</th>\n",
       "    </tr>\n",
       "  </thead>\n",
       "  <tbody>\n",
       "    <tr>\n",
       "      <th>count</th>\n",
       "      <td>61.000000</td>\n",
       "      <td>61.000000</td>\n",
       "      <td>6.100000e+01</td>\n",
       "      <td>61.000000</td>\n",
       "      <td>61.000000</td>\n",
       "      <td>61.000000</td>\n",
       "      <td>61.000000</td>\n",
       "    </tr>\n",
       "    <tr>\n",
       "      <th>mean</th>\n",
       "      <td>30.000000</td>\n",
       "      <td>31.622951</td>\n",
       "      <td>5.329419e+06</td>\n",
       "      <td>8.442623</td>\n",
       "      <td>63.295082</td>\n",
       "      <td>159.958337</td>\n",
       "      <td>18.747975</td>\n",
       "    </tr>\n",
       "    <tr>\n",
       "      <th>std</th>\n",
       "      <td>17.752934</td>\n",
       "      <td>19.069316</td>\n",
       "      <td>1.715786e+06</td>\n",
       "      <td>0.940294</td>\n",
       "      <td>36.455152</td>\n",
       "      <td>84.831816</td>\n",
       "      <td>9.527849</td>\n",
       "    </tr>\n",
       "    <tr>\n",
       "      <th>min</th>\n",
       "      <td>0.000000</td>\n",
       "      <td>0.000000</td>\n",
       "      <td>4.195400e+05</td>\n",
       "      <td>6.000000</td>\n",
       "      <td>0.000000</td>\n",
       "      <td>0.000000</td>\n",
       "      <td>0.000000</td>\n",
       "    </tr>\n",
       "    <tr>\n",
       "      <th>25%</th>\n",
       "      <td>15.000000</td>\n",
       "      <td>15.000000</td>\n",
       "      <td>4.477600e+06</td>\n",
       "      <td>8.000000</td>\n",
       "      <td>41.000000</td>\n",
       "      <td>92.881431</td>\n",
       "      <td>11.610179</td>\n",
       "    </tr>\n",
       "    <tr>\n",
       "      <th>50%</th>\n",
       "      <td>30.000000</td>\n",
       "      <td>33.000000</td>\n",
       "      <td>5.251488e+06</td>\n",
       "      <td>8.000000</td>\n",
       "      <td>65.000000</td>\n",
       "      <td>169.548150</td>\n",
       "      <td>19.004340</td>\n",
       "    </tr>\n",
       "    <tr>\n",
       "      <th>75%</th>\n",
       "      <td>45.000000</td>\n",
       "      <td>48.000000</td>\n",
       "      <td>6.312800e+06</td>\n",
       "      <td>9.000000</td>\n",
       "      <td>83.000000</td>\n",
       "      <td>216.396361</td>\n",
       "      <td>26.251630</td>\n",
       "    </tr>\n",
       "    <tr>\n",
       "      <th>max</th>\n",
       "      <td>60.000000</td>\n",
       "      <td>63.000000</td>\n",
       "      <td>9.264510e+06</td>\n",
       "      <td>11.000000</td>\n",
       "      <td>184.000000</td>\n",
       "      <td>331.184482</td>\n",
       "      <td>39.079717</td>\n",
       "    </tr>\n",
       "  </tbody>\n",
       "</table>\n",
       "</div>"
      ],
      "text/plain": [
       "       Unnamed: 0    file_id  analyzed_area  total_planes  \\\n",
       "count   61.000000  61.000000   6.100000e+01     61.000000   \n",
       "mean    30.000000  31.622951   5.329419e+06      8.442623   \n",
       "std     17.752934  19.069316   1.715786e+06      0.940294   \n",
       "min      0.000000   0.000000   4.195400e+05      6.000000   \n",
       "25%     15.000000  15.000000   4.477600e+06      8.000000   \n",
       "50%     30.000000  33.000000   5.251488e+06      8.000000   \n",
       "75%     45.000000  48.000000   6.312800e+06      9.000000   \n",
       "max     60.000000  63.000000   9.264510e+06     11.000000   \n",
       "\n",
       "       connected_components  cc_normalized_per_area  cc_normalized_per_volume  \n",
       "count             61.000000               61.000000                 61.000000  \n",
       "mean              63.295082              159.958337                 18.747975  \n",
       "std               36.455152               84.831816                  9.527849  \n",
       "min                0.000000                0.000000                  0.000000  \n",
       "25%               41.000000               92.881431                 11.610179  \n",
       "50%               65.000000              169.548150                 19.004340  \n",
       "75%               83.000000              216.396361                 26.251630  \n",
       "max              184.000000              331.184482                 39.079717  "
      ]
     },
     "execution_count": 7,
     "metadata": {},
     "output_type": "execute_result"
    }
   ],
   "source": [
    "df.describe()"
   ]
  },
  {
   "cell_type": "markdown",
   "id": "43806e93-971b-4ea2-a17e-ab9f00628305",
   "metadata": {},
   "source": [
    "## Let's check normality"
   ]
  },
  {
   "cell_type": "code",
   "execution_count": 8,
   "id": "87cb8078-6d3c-4200-bfac-cf21d4a4d6ad",
   "metadata": {},
   "outputs": [],
   "source": [
    "def check_normality(self):\n",
    "    stat, p = shapiro(self['cc_normalized_per_volume'])\n",
    "    ax = sns.distplot(model.resid, hist = False, kde_kws = {\"shade\" : True, \"lw\": 1}, fit = scipy.stats.norm)\n",
    "    if p >= 0.05:\n",
    "        print(\"Normality can be assumed\")\n",
    "        model = smf.mixedlm(\"cc_normalized_per_volume ~ group_id\", df, groups = \"subject_id\").fit()\n",
    "    else:\n",
    "        print(\"WARNING: Normality is violated. Run non-parametric model\")"
   ]
  },
  {
   "cell_type": "code",
   "execution_count": 9,
   "id": "0488ea88-0171-42a2-b9b6-ef258ccdef7d",
   "metadata": {
    "tags": []
   },
   "outputs": [
    {
     "data": {
      "text/html": [
       "<table class=\"simpletable\">\n",
       "<tr>\n",
       "       <td>Model:</td>       <td>MixedLM</td> <td>Dependent Variable:</td> <td>cc_normalized_per_volume</td>\n",
       "</tr>\n",
       "<tr>\n",
       "  <td>No. Observations:</td>   <td>61</td>          <td>Method:</td>                 <td>REML</td>          \n",
       "</tr>\n",
       "<tr>\n",
       "     <td>No. Groups:</td>      <td>10</td>          <td>Scale:</td>                 <td>45.9057</td>        \n",
       "</tr>\n",
       "<tr>\n",
       "  <td>Min. group size:</td>     <td>4</td>      <td>Log-Likelihood:</td>           <td>-208.4239</td>       \n",
       "</tr>\n",
       "<tr>\n",
       "  <td>Max. group size:</td>     <td>7</td>        <td>Converged:</td>                 <td>Yes</td>          \n",
       "</tr>\n",
       "<tr>\n",
       "  <td>Mean group size:</td>    <td>6.1</td>            <td></td>                       <td></td>            \n",
       "</tr>\n",
       "</table>\n",
       "<table class=\"simpletable\">\n",
       "<tr>\n",
       "         <td></td>         <th>Coef.</th> <th>Std.Err.</th>    <th>z</th>   <th>P>|z|</th> <th>[0.025</th> <th>0.975]</th>\n",
       "</tr>\n",
       "<tr>\n",
       "  <th>Intercept</th>      <td>18.494</td>   <td>3.538</td>   <td>5.227</td> <td>0.000</td> <td>11.559</td> <td>25.429</td>\n",
       "</tr>\n",
       "<tr>\n",
       "  <th>group_id[T.wt]</th> <td>-0.083</td>   <td>4.994</td>  <td>-0.017</td> <td>0.987</td> <td>-9.871</td>  <td>9.705</td>\n",
       "</tr>\n",
       "<tr>\n",
       "  <th>subject_id Var</th> <td>54.667</td>   <td>4.923</td>     <td></td>      <td></td>       <td></td>       <td></td>   \n",
       "</tr>\n",
       "</table>"
      ],
      "text/plain": [
       "<class 'statsmodels.iolib.summary2.Summary'>\n",
       "\"\"\"\n",
       "                Mixed Linear Model Regression Results\n",
       "======================================================================\n",
       "Model:            MixedLM Dependent Variable: cc_normalized_per_volume\n",
       "No. Observations: 61      Method:             REML                    \n",
       "No. Groups:       10      Scale:              45.9057                 \n",
       "Min. group size:  4       Log-Likelihood:     -208.4239               \n",
       "Max. group size:  7       Converged:          Yes                     \n",
       "Mean group size:  6.1                                                 \n",
       "------------------------------------------------------------------------\n",
       "                    Coef.    Std.Err.     z      P>|z|   [0.025   0.975]\n",
       "------------------------------------------------------------------------\n",
       "Intercept           18.494      3.538    5.227   0.000   11.559   25.429\n",
       "group_id[T.wt]      -0.083      4.994   -0.017   0.987   -9.871    9.705\n",
       "subject_id Var      54.667      4.923                                   \n",
       "======================================================================\n",
       "\n",
       "\"\"\""
      ]
     },
     "execution_count": 9,
     "metadata": {},
     "output_type": "execute_result"
    }
   ],
   "source": [
    "#Check it's running before putting it into the model\n",
    "model = smf.mixedlm(\"cc_normalized_per_volume ~ group_id\", df, groups = \"subject_id\").fit()\n",
    "model.summary()"
   ]
  },
  {
   "cell_type": "markdown",
   "id": "f9b27ae9-fb96-4b47-a13c-ac6c2548b586",
   "metadata": {},
   "source": [
    "### Non-parametric model for repeated measures?"
   ]
  },
  {
   "cell_type": "code",
   "execution_count": 29,
   "id": "a4683a34-8e2e-4af4-975b-c66228ed32d8",
   "metadata": {},
   "outputs": [
    {
     "data": {
      "text/html": [
       "<div>\n",
       "<style scoped>\n",
       "    .dataframe tbody tr th:only-of-type {\n",
       "        vertical-align: middle;\n",
       "    }\n",
       "\n",
       "    .dataframe tbody tr th {\n",
       "        vertical-align: top;\n",
       "    }\n",
       "\n",
       "    .dataframe thead th {\n",
       "        text-align: right;\n",
       "    }\n",
       "</style>\n",
       "<table border=\"1\" class=\"dataframe\">\n",
       "  <thead>\n",
       "    <tr style=\"text-align: right;\">\n",
       "      <th></th>\n",
       "      <th>group_id</th>\n",
       "      <th>subject_id</th>\n",
       "      <th>cc_normalized_per_volume</th>\n",
       "    </tr>\n",
       "  </thead>\n",
       "  <tbody>\n",
       "    <tr>\n",
       "      <th>0</th>\n",
       "      <td>tg</td>\n",
       "      <td>#10_tg_old</td>\n",
       "      <td>0.000000</td>\n",
       "    </tr>\n",
       "    <tr>\n",
       "      <th>1</th>\n",
       "      <td>tg</td>\n",
       "      <td>#10_tg_old</td>\n",
       "      <td>18.729920</td>\n",
       "    </tr>\n",
       "    <tr>\n",
       "      <th>2</th>\n",
       "      <td>tg</td>\n",
       "      <td>#10_tg_old</td>\n",
       "      <td>8.306840</td>\n",
       "    </tr>\n",
       "    <tr>\n",
       "      <th>3</th>\n",
       "      <td>tg</td>\n",
       "      <td>#10_tg_old</td>\n",
       "      <td>4.944721</td>\n",
       "    </tr>\n",
       "    <tr>\n",
       "      <th>4</th>\n",
       "      <td>tg</td>\n",
       "      <td>#10_tg_old</td>\n",
       "      <td>24.454311</td>\n",
       "    </tr>\n",
       "    <tr>\n",
       "      <th>5</th>\n",
       "      <td>tg</td>\n",
       "      <td>#10_tg_old</td>\n",
       "      <td>26.251630</td>\n",
       "    </tr>\n",
       "    <tr>\n",
       "      <th>6</th>\n",
       "      <td>tg</td>\n",
       "      <td>#11_tg_old</td>\n",
       "      <td>26.598050</td>\n",
       "    </tr>\n",
       "    <tr>\n",
       "      <th>7</th>\n",
       "      <td>tg</td>\n",
       "      <td>#11_tg_old</td>\n",
       "      <td>39.079717</td>\n",
       "    </tr>\n",
       "    <tr>\n",
       "      <th>8</th>\n",
       "      <td>tg</td>\n",
       "      <td>#11_tg_old</td>\n",
       "      <td>21.447865</td>\n",
       "    </tr>\n",
       "    <tr>\n",
       "      <th>9</th>\n",
       "      <td>tg</td>\n",
       "      <td>#11_tg_old</td>\n",
       "      <td>28.997950</td>\n",
       "    </tr>\n",
       "    <tr>\n",
       "      <th>10</th>\n",
       "      <td>tg</td>\n",
       "      <td>#11_tg_old</td>\n",
       "      <td>27.113033</td>\n",
       "    </tr>\n",
       "    <tr>\n",
       "      <th>11</th>\n",
       "      <td>tg</td>\n",
       "      <td>#11_tg_old</td>\n",
       "      <td>25.885726</td>\n",
       "    </tr>\n",
       "    <tr>\n",
       "      <th>12</th>\n",
       "      <td>tg</td>\n",
       "      <td>#12_tg_old</td>\n",
       "      <td>8.708189</td>\n",
       "    </tr>\n",
       "    <tr>\n",
       "      <th>13</th>\n",
       "      <td>tg</td>\n",
       "      <td>#12_tg_old</td>\n",
       "      <td>10.958393</td>\n",
       "    </tr>\n",
       "    <tr>\n",
       "      <th>14</th>\n",
       "      <td>tg</td>\n",
       "      <td>#12_tg_old</td>\n",
       "      <td>8.995328</td>\n",
       "    </tr>\n",
       "    <tr>\n",
       "      <th>15</th>\n",
       "      <td>tg</td>\n",
       "      <td>#12_tg_old</td>\n",
       "      <td>5.378810</td>\n",
       "    </tr>\n",
       "    <tr>\n",
       "      <th>16</th>\n",
       "      <td>tg</td>\n",
       "      <td>#12_tg_old</td>\n",
       "      <td>9.499988</td>\n",
       "    </tr>\n",
       "    <tr>\n",
       "      <th>17</th>\n",
       "      <td>tg</td>\n",
       "      <td>#12_tg_old</td>\n",
       "      <td>11.610179</td>\n",
       "    </tr>\n",
       "    <tr>\n",
       "      <th>18</th>\n",
       "      <td>tg</td>\n",
       "      <td>#12_tg_old</td>\n",
       "      <td>17.501889</td>\n",
       "    </tr>\n",
       "    <tr>\n",
       "      <th>19</th>\n",
       "      <td>tg</td>\n",
       "      <td>#5_tg_old</td>\n",
       "      <td>19.603688</td>\n",
       "    </tr>\n",
       "  </tbody>\n",
       "</table>\n",
       "</div>"
      ],
      "text/plain": [
       "   group_id  subject_id  cc_normalized_per_volume\n",
       "0        tg  #10_tg_old                  0.000000\n",
       "1        tg  #10_tg_old                 18.729920\n",
       "2        tg  #10_tg_old                  8.306840\n",
       "3        tg  #10_tg_old                  4.944721\n",
       "4        tg  #10_tg_old                 24.454311\n",
       "5        tg  #10_tg_old                 26.251630\n",
       "6        tg  #11_tg_old                 26.598050\n",
       "7        tg  #11_tg_old                 39.079717\n",
       "8        tg  #11_tg_old                 21.447865\n",
       "9        tg  #11_tg_old                 28.997950\n",
       "10       tg  #11_tg_old                 27.113033\n",
       "11       tg  #11_tg_old                 25.885726\n",
       "12       tg  #12_tg_old                  8.708189\n",
       "13       tg  #12_tg_old                 10.958393\n",
       "14       tg  #12_tg_old                  8.995328\n",
       "15       tg  #12_tg_old                  5.378810\n",
       "16       tg  #12_tg_old                  9.499988\n",
       "17       tg  #12_tg_old                 11.610179\n",
       "18       tg  #12_tg_old                 17.501889\n",
       "19       tg   #5_tg_old                 19.603688"
      ]
     },
     "execution_count": 29,
     "metadata": {},
     "output_type": "execute_result"
    }
   ],
   "source": [
    "#subset for Friedman model\n",
    "df_friedman = df[[\"group_id\", \"subject_id\", \"cc_normalized_per_volume\"]]\n",
    "df_friedman.head(20)"
   ]
  },
  {
   "cell_type": "code",
   "execution_count": null,
   "id": "ab013cf7-f568-4f8b-b7d7-f68088afd020",
   "metadata": {},
   "outputs": [],
   "source": [
    "#Problem: I can't figure out if this works when we're only dealing with 2 levels or what the data format should be\n",
    "#pg.friedman(df_friedman)"
   ]
  },
  {
   "cell_type": "markdown",
   "id": "f8160738-6c7b-4576-b26d-687d350f31f0",
   "metadata": {},
   "source": [
    "### Plotting Normality"
   ]
  },
  {
   "cell_type": "code",
   "execution_count": 10,
   "id": "9f07ccab-2656-4f49-b4f7-c85108e8acdd",
   "metadata": {},
   "outputs": [
    {
     "name": "stderr",
     "output_type": "stream",
     "text": [
      "/Users/Sofie/opt/anaconda3/envs/DCL_image/lib/python3.8/site-packages/seaborn/distributions.py:2551: FutureWarning: `distplot` is a deprecated function and will be removed in a future version. Please adapt your code to use either `displot` (a figure-level function with similar flexibility) or `kdeplot` (an axes-level function for kernel density plots).\n",
      "  warnings.warn(msg, FutureWarning)\n"
     ]
    },
    {
     "data": {
      "image/png": "[encoded data removed]",
      "text/plain": [
       "<Figure size 432x288 with 1 Axes>"
      ]
     },
     "metadata": {
      "needs_background": "light"
     },
     "output_type": "display_data"
    }
   ],
   "source": [
    "#2 types of normality plots\n",
    "ax = sns.distplot(model.resid, hist = False, kde_kws = {\"shade\" : True, \"lw\": 1}, fit = scipy.stats.norm)\n",
    "\n",
    "#Problem: the histogram doesn't seem to represent our data - figure out why when you have time\n",
    "#def map_pdf(x, **kwargs):\n",
    "#    mu, std = scipy.stats.norm.fit(x)\n",
    "#    x0, x1 = p1.axes[0][0].get_xlim()  # axes for p1 is required to determine x_pdf\n",
    "#    x_pdf = np.linspace(x0, x1, 100)\n",
    "#    y_pdf = scipy.stats.norm.pdf(x_pdf, mu, std)\n",
    "#    plt.plot(x_pdf, y_pdf, c='r')\n",
    "\n",
    "\n",
    "#p1 = sns.displot(data=df, x='cc_normalized_per_volume', kind='hist', bins=40, stat='density')\n",
    "#p1.map(map_pdf, 'cc_normalized_per_volume')"
   ]
  },
  {
   "cell_type": "code",
   "execution_count": 11,
   "id": "5f745b08-098f-4471-aa03-f707ea16d392",
   "metadata": {},
   "outputs": [
    {
     "data": {
      "text/plain": [
       "((array([-2.28017173, -1.92017484, -1.7091256 , -1.55469152, -1.43036801,\n",
       "         -1.3249031 , -1.23241216, -1.14940983, -1.07365152, -1.00360143,\n",
       "         -0.93815914, -0.87650695, -0.81801894, -0.76220403, -0.70866868,\n",
       "         -0.65709167, -0.60720655, -0.55878903, -0.51164772, -0.46561731,\n",
       "         -0.42055328, -0.37632784, -0.33282677, -0.28994682, -0.24759369,\n",
       "         -0.20568029, -0.16412527, -0.12285188, -0.08178679, -0.04085922,\n",
       "          0.        ,  0.04085922,  0.08178679,  0.12285188,  0.16412527,\n",
       "          0.20568029,  0.24759369,  0.28994682,  0.33282677,  0.37632784,\n",
       "          0.42055328,  0.46561731,  0.51164772,  0.55878903,  0.60720655,\n",
       "          0.65709167,  0.70866868,  0.76220403,  0.81801894,  0.87650695,\n",
       "          0.93815914,  1.00360143,  1.07365152,  1.14940983,  1.23241216,\n",
       "          1.3249031 ,  1.43036801,  1.55469152,  1.7091256 ,  1.92017484,\n",
       "          2.28017173]),\n",
       "  array([ 0.        ,  0.        ,  3.36498007,  3.39516929,  4.56467076,\n",
       "          4.94472095,  5.37880998,  5.4381415 ,  6.04765034,  8.30683951,\n",
       "          8.70818855,  8.99532839,  9.4999882 , 10.72173818, 10.95839315,\n",
       "         11.61017884, 11.67563618, 13.55871105, 13.57800437, 13.97235568,\n",
       "         14.53745594, 14.91886357, 15.11799439, 16.20876127, 16.41075483,\n",
       "         17.50188871, 17.63846202, 17.71874294, 18.72992029, 18.83868329,\n",
       "         19.00433976, 19.60368836, 19.75488303, 21.39711228, 21.44786527,\n",
       "         21.8483652 , 22.15950828, 22.59279116, 22.95751997, 23.66271238,\n",
       "         24.04404007, 24.45431112, 24.62806843, 25.35481961, 25.8857259 ,\n",
       "         26.2516305 , 26.43774304, 26.59805016, 27.113033  , 27.15199174,\n",
       "         27.38199949, 28.51621702, 28.99794971, 29.23972806, 29.71526816,\n",
       "         30.13254422, 30.73951917, 31.59216342, 36.74388838, 36.79827582,\n",
       "         39.07971732])),\n",
       " (9.678978887457834, 18.74797544701497, 0.9933486549682052))"
      ]
     },
     "execution_count": 11,
     "metadata": {},
     "output_type": "execute_result"
    },
    {
     "data": {
      "image/png": "[encoded data removed]",
      "text/plain": [
       "<Figure size 432x288 with 1 Axes>"
      ]
     },
     "metadata": {
      "needs_background": "light"
     },
     "output_type": "display_data"
    }
   ],
   "source": [
    "scipy.stats.probplot(df['cc_normalized_per_volume'], dist=\"norm\", plot=plt)"
   ]
  },
  {
   "cell_type": "code",
   "execution_count": 12,
   "id": "835c3bb4-f326-4d36-8292-c29f6f845da1",
   "metadata": {},
   "outputs": [
    {
     "ename": "AttributeError",
     "evalue": "module 'statsmodels' has no attribute 'api'",
     "output_type": "error",
     "traceback": [
      "\u001b[0;31m---------------------------------------------------------------------------\u001b[0m",
      "\u001b[0;31mAttributeError\u001b[0m                            Traceback (most recent call last)",
      "\u001b[0;32m<ipython-input-12-fd24c2fcf340>\u001b[0m in \u001b[0;36m<module>\u001b[0;34m\u001b[0m\n\u001b[0;32m----> 1\u001b[0;31m \u001b[0msm\u001b[0m\u001b[0;34m.\u001b[0m\u001b[0mapi\u001b[0m\u001b[0;34m.\u001b[0m\u001b[0mqqplot\u001b[0m\u001b[0;34m(\u001b[0m\u001b[0mdf\u001b[0m\u001b[0;34m[\u001b[0m\u001b[0;34m'cc_normalized_per_volume'\u001b[0m\u001b[0;34m]\u001b[0m\u001b[0;34m,\u001b[0m \u001b[0mline\u001b[0m\u001b[0;34m=\u001b[0m\u001b[0;34m'45'\u001b[0m\u001b[0;34m)\u001b[0m\u001b[0;34m\u001b[0m\u001b[0;34m\u001b[0m\u001b[0m\n\u001b[0m\u001b[1;32m      2\u001b[0m \u001b[0mpylab\u001b[0m\u001b[0;34m.\u001b[0m\u001b[0mshow\u001b[0m\u001b[0;34m(\u001b[0m\u001b[0;34m)\u001b[0m\u001b[0;34m\u001b[0m\u001b[0;34m\u001b[0m\u001b[0m\n",
      "\u001b[0;31mAttributeError\u001b[0m: module 'statsmodels' has no attribute 'api'"
     ]
    }
   ],
   "source": [
    "#problem: module 'statsmodels' has no attribute 'api' - should show QQ plot\n",
    "#sm.qqplot(df['cc_normalized_per_volume'], line='45')\n",
    "#pylab.show()"
   ]
  },
  {
   "cell_type": "markdown",
   "id": "1dd46e63-14fa-4b0e-ab26-6d0cf3f204d6",
   "metadata": {},
   "source": [
    "## Checking homoscedasticity"
   ]
  },
  {
   "cell_type": "code",
   "execution_count": null,
   "id": "496d7087-76a4-484a-b24b-03a13cfacaa1",
   "metadata": {},
   "outputs": [],
   "source": [
    "#Make dataframes compatible for Levene's test\n",
    "df_tg = df.loc[df['group_id'] == 'tg']\n",
    "df_tg = df_tg.rename(columns={\"cc_normalized_per_volume\": \"tg\"})\n",
    "\n",
    "df_wt = df.loc[df['group_id'] == 'wt']\n",
    "df_wt = df_wt.rename(columns={\"cc_normalized_per_volume\": \"wt\"})"
   ]
  },
  {
   "cell_type": "code",
   "execution_count": 73,
   "id": "d5939118-53ac-43e5-94f0-9cf232ec5caf",
   "metadata": {},
   "outputs": [
    {
     "name": "stdout",
     "output_type": "stream",
     "text": [
      "Homoscedasticity assumption met!\n"
     ]
    }
   ],
   "source": [
    "stat, p = levene(df_wt['wt'], df_tg['tg'])\n",
    "if p >= 0.05:\n",
    "        print(\"Homoscedasticity assumption met!\")\n",
    "else:\n",
    "        print(\"WARNING: Homoscedasticity is violated. Consider data transformations\")"
   ]
  },
  {
   "cell_type": "markdown",
   "id": "e687d64f-7d71-4572-b690-4a6e1f8069c1",
   "metadata": {},
   "source": [
    "## Get familiar with sns"
   ]
  },
  {
   "cell_type": "code",
   "execution_count": 14,
   "id": "81f00680-6f75-439e-aa3b-7484f9975b55",
   "metadata": {},
   "outputs": [],
   "source": [
    "sns.set_theme()"
   ]
  },
  {
   "cell_type": "code",
   "execution_count": 15,
   "id": "191b14b9-2bd3-414f-ade8-c3f2bedba3ff",
   "metadata": {},
   "outputs": [
    {
     "data": {
      "text/plain": [
       "<seaborn.axisgrid.FacetGrid at 0x7fd32809d370>"
      ]
     },
     "execution_count": 15,
     "metadata": {},
     "output_type": "execute_result"
    },
    {
     "data": {
      "image/png": "[encoded data removed]",
      "text/plain": [
       "<Figure size 415.3x360 with 1 Axes>"
      ]
     },
     "metadata": {},
     "output_type": "display_data"
    }
   ],
   "source": [
    "sns.relplot(data=df, x=\"file_id\", y=\"cc_normalized_per_volume\", hue=\"group_id\")"
   ]
  },
  {
   "cell_type": "code",
   "execution_count": 16,
   "id": "969427de-18a4-48f6-802c-3dffc306249f",
   "metadata": {},
   "outputs": [
    {
     "data": {
      "text/plain": [
       "<matplotlib.axes._subplots.AxesSubplot at 0x7fd353ec27f0>"
      ]
     },
     "execution_count": 16,
     "metadata": {},
     "output_type": "execute_result"
    },
    {
     "data": {
      "image/png": "[encoded data removed]",
      "text/plain": [
       "<Figure size 432x288 with 1 Axes>"
      ]
     },
     "metadata": {},
     "output_type": "display_data"
    }
   ],
   "source": [
    "sns.stripplot(data=df, x='group_id', y='cc_normalized_per_volume')"
   ]
  },
  {
   "cell_type": "markdown",
   "id": "0823d483-0b9b-49fd-b35d-44bbaff6a743",
   "metadata": {},
   "source": [
    "Example of a regression plot"
   ]
  },
  {
   "cell_type": "code",
   "execution_count": 17,
   "id": "9dfe0025-4cfd-493d-9f89-9c6528191d3f",
   "metadata": {},
   "outputs": [
    {
     "data": {
      "text/plain": [
       "Text(0.5, 1.0, 'correlation between normalized area and volume')"
      ]
     },
     "execution_count": 17,
     "metadata": {},
     "output_type": "execute_result"
    },
    {
     "data": {
      "image/png": "[encoded data removed]",
      "text/plain": [
       "<Figure size 432x288 with 1 Axes>"
      ]
     },
     "metadata": {},
     "output_type": "display_data"
    }
   ],
   "source": [
    "sns.regplot(data=df, x='cc_normalized_per_area', y='cc_normalized_per_volume')\n",
    "plt.xlabel('Normalized Data Per Area', fontsize=12)\n",
    "plt.ylabel('Normalized Data Per Volume', fontsize=12)\n",
    "#ax.spines['right'].set_visible(False)\n",
    "#ax.spines['top'].set_visible(False)\n",
    "#plt.text(17, 95, 'r = 0.68\\np = 0.03', fontsize=11)\n",
    "plt.title('correlation between normalized area and volume', fontsize=13, pad=10)\n",
    "#plt.savefig('correlation_analysis_expert_vs_findmycells.png', dpi=300)\n",
    "#plt.show()"
   ]
  },
  {
   "cell_type": "code",
   "execution_count": null,
   "id": "bf3bc2a0-8104-4a20-8991-9d0eff020f54",
   "metadata": {},
   "outputs": [],
   "source": []
  }
 ],
 "metadata": {
  "kernelspec": {
   "display_name": "Python 3",
   "language": "python",
   "name": "python3"
  },
  "language_info": {
   "codemirror_mode": {
    "name": "ipython",
    "version": 3
   },
   "file_extension": ".py",
   "mimetype": "text/x-python",
   "name": "python",
   "nbconvert_exporter": "python",
   "pygments_lexer": "ipython3",
   "version": "3.8.5"
  }
 },
 "nbformat": 4,
 "nbformat_minor": 5
}
